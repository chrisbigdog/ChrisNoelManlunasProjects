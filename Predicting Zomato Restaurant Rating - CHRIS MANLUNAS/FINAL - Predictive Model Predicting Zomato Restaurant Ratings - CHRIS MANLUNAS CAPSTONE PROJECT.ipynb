{
 "cells": [
  {
   "cell_type": "markdown",
   "id": "eea479ca",
   "metadata": {},
   "source": [
    "# Predictive Model Predicting Zomato Restaurant Ratings"
   ]
  },
  {
   "cell_type": "markdown",
   "id": "b02381c1",
   "metadata": {},
   "source": [
    "BUILD MODEL:"
   ]
  },
  {
   "cell_type": "markdown",
   "id": "432321f1",
   "metadata": {},
   "source": [
    "IMPORT DEPENDENCIES:"
   ]
  },
  {
   "cell_type": "code",
   "execution_count": 276,
   "id": "6b02560b",
   "metadata": {},
   "outputs": [],
   "source": [
    "import pandas as pd\n",
    "import numpy as np\n",
    "import matplotlib.pyplot as plt\n",
    "import seaborn as sns\n",
    "import plotly.graph_objs as go\n",
    "import plotly.offline as py\n",
    "from plotly.offline import iplot\n",
    "import re # (use regular expression to split words)\n",
    "\n",
    "import matplotlib.ticker as mtick\n",
    "plt.style.use('fivethirtyeight')\n",
    "\n",
    "# ALGORITHMS TO USE:\n",
    "from sklearn.linear_model import LogisticRegression\n",
    "from sklearn.linear_model import LinearRegression\n",
    "from sklearn.ensemble import RandomForestRegressor\n",
    "from sklearn.ensemble import ExtraTreesRegressor\n",
    "from sklearn.tree import DecisionTreeRegressor\n",
    "\n",
    "#EXTRA TOOLS:\n",
    "from sklearn import metrics\n",
    "from sklearn.metrics import accuracy_score\n",
    "from sklearn.metrics import r2_score\n",
    "from sklearn.metrics import mean_squared_error\n",
    "from sklearn.model_selection import cross_val_score\n",
    "from sklearn.metrics import classification_report\n",
    "from sklearn.preprocessing import LabelEncoder\n",
    "\n",
    "# DATA SPLITTER FOR TRAINING AND TESTING:\n",
    "from sklearn.model_selection import train_test_split\n",
    "\n",
    "import warnings\n",
    "warnings.filterwarnings('ignore')\n",
    "%matplotlib inline"
   ]
  },
  {
   "cell_type": "markdown",
   "id": "2ceb7961",
   "metadata": {},
   "source": [
    "LOAD DATA:"
   ]
  },
  {
   "cell_type": "code",
   "execution_count": 195,
   "id": "d38e8bdc",
   "metadata": {},
   "outputs": [],
   "source": [
    "data = pd.read_csv('zomato_cleaned1.csv')"
   ]
  },
  {
   "cell_type": "code",
   "execution_count": 196,
   "id": "1d3806d0",
   "metadata": {},
   "outputs": [
    {
     "data": {
      "text/html": [
       "<div>\n",
       "<style scoped>\n",
       "    .dataframe tbody tr th:only-of-type {\n",
       "        vertical-align: middle;\n",
       "    }\n",
       "\n",
       "    .dataframe tbody tr th {\n",
       "        vertical-align: top;\n",
       "    }\n",
       "\n",
       "    .dataframe thead th {\n",
       "        text-align: right;\n",
       "    }\n",
       "</style>\n",
       "<table border=\"1\" class=\"dataframe\">\n",
       "  <thead>\n",
       "    <tr style=\"text-align: right;\">\n",
       "      <th></th>\n",
       "      <th>Unnamed: 0</th>\n",
       "      <th>name</th>\n",
       "      <th>address</th>\n",
       "      <th>rate</th>\n",
       "      <th>votes</th>\n",
       "      <th>cost</th>\n",
       "      <th>online_order</th>\n",
       "      <th>book_table</th>\n",
       "      <th>dish_liked</th>\n",
       "      <th>cuisines</th>\n",
       "      <th>location</th>\n",
       "      <th>rest_type</th>\n",
       "      <th>reviews_list</th>\n",
       "      <th>menu_item</th>\n",
       "      <th>type</th>\n",
       "      <th>city</th>\n",
       "    </tr>\n",
       "  </thead>\n",
       "  <tbody>\n",
       "    <tr>\n",
       "      <th>0</th>\n",
       "      <td>0</td>\n",
       "      <td>Jalsa</td>\n",
       "      <td>942, 21st Main Road, 2nd Stage, Banashankari, ...</td>\n",
       "      <td>4.1</td>\n",
       "      <td>775</td>\n",
       "      <td>800.0</td>\n",
       "      <td>Yes</td>\n",
       "      <td>Yes</td>\n",
       "      <td>Pasta</td>\n",
       "      <td>North Indian</td>\n",
       "      <td>Banashankari</td>\n",
       "      <td>Casual Dining</td>\n",
       "      <td>[('Rated 4.0', 'RATED\\n  A beautiful place to ...</td>\n",
       "      <td>[]</td>\n",
       "      <td>Buffet</td>\n",
       "      <td>Banashankari</td>\n",
       "    </tr>\n",
       "    <tr>\n",
       "      <th>1</th>\n",
       "      <td>0</td>\n",
       "      <td>Jalsa</td>\n",
       "      <td>942, 21st Main Road, 2nd Stage, Banashankari, ...</td>\n",
       "      <td>4.1</td>\n",
       "      <td>775</td>\n",
       "      <td>800.0</td>\n",
       "      <td>Yes</td>\n",
       "      <td>Yes</td>\n",
       "      <td>Pasta</td>\n",
       "      <td>Mughlai</td>\n",
       "      <td>Banashankari</td>\n",
       "      <td>Casual Dining</td>\n",
       "      <td>[('Rated 4.0', 'RATED\\n  A beautiful place to ...</td>\n",
       "      <td>[]</td>\n",
       "      <td>Buffet</td>\n",
       "      <td>Banashankari</td>\n",
       "    </tr>\n",
       "    <tr>\n",
       "      <th>2</th>\n",
       "      <td>0</td>\n",
       "      <td>Jalsa</td>\n",
       "      <td>942, 21st Main Road, 2nd Stage, Banashankari, ...</td>\n",
       "      <td>4.1</td>\n",
       "      <td>775</td>\n",
       "      <td>800.0</td>\n",
       "      <td>Yes</td>\n",
       "      <td>Yes</td>\n",
       "      <td>Pasta</td>\n",
       "      <td>Chinese</td>\n",
       "      <td>Banashankari</td>\n",
       "      <td>Casual Dining</td>\n",
       "      <td>[('Rated 4.0', 'RATED\\n  A beautiful place to ...</td>\n",
       "      <td>[]</td>\n",
       "      <td>Buffet</td>\n",
       "      <td>Banashankari</td>\n",
       "    </tr>\n",
       "    <tr>\n",
       "      <th>3</th>\n",
       "      <td>0</td>\n",
       "      <td>Jalsa</td>\n",
       "      <td>942, 21st Main Road, 2nd Stage, Banashankari, ...</td>\n",
       "      <td>4.1</td>\n",
       "      <td>775</td>\n",
       "      <td>800.0</td>\n",
       "      <td>Yes</td>\n",
       "      <td>Yes</td>\n",
       "      <td>Lunch Buffet</td>\n",
       "      <td>North Indian</td>\n",
       "      <td>Banashankari</td>\n",
       "      <td>Casual Dining</td>\n",
       "      <td>[('Rated 4.0', 'RATED\\n  A beautiful place to ...</td>\n",
       "      <td>[]</td>\n",
       "      <td>Buffet</td>\n",
       "      <td>Banashankari</td>\n",
       "    </tr>\n",
       "    <tr>\n",
       "      <th>4</th>\n",
       "      <td>0</td>\n",
       "      <td>Jalsa</td>\n",
       "      <td>942, 21st Main Road, 2nd Stage, Banashankari, ...</td>\n",
       "      <td>4.1</td>\n",
       "      <td>775</td>\n",
       "      <td>800.0</td>\n",
       "      <td>Yes</td>\n",
       "      <td>Yes</td>\n",
       "      <td>Lunch Buffet</td>\n",
       "      <td>Mughlai</td>\n",
       "      <td>Banashankari</td>\n",
       "      <td>Casual Dining</td>\n",
       "      <td>[('Rated 4.0', 'RATED\\n  A beautiful place to ...</td>\n",
       "      <td>[]</td>\n",
       "      <td>Buffet</td>\n",
       "      <td>Banashankari</td>\n",
       "    </tr>\n",
       "  </tbody>\n",
       "</table>\n",
       "</div>"
      ],
      "text/plain": [
       "   Unnamed: 0   name                                            address  rate  \\\n",
       "0           0  Jalsa  942, 21st Main Road, 2nd Stage, Banashankari, ...   4.1   \n",
       "1           0  Jalsa  942, 21st Main Road, 2nd Stage, Banashankari, ...   4.1   \n",
       "2           0  Jalsa  942, 21st Main Road, 2nd Stage, Banashankari, ...   4.1   \n",
       "3           0  Jalsa  942, 21st Main Road, 2nd Stage, Banashankari, ...   4.1   \n",
       "4           0  Jalsa  942, 21st Main Road, 2nd Stage, Banashankari, ...   4.1   \n",
       "\n",
       "   votes   cost online_order book_table     dish_liked      cuisines  \\\n",
       "0    775  800.0          Yes        Yes          Pasta  North Indian   \n",
       "1    775  800.0          Yes        Yes          Pasta       Mughlai   \n",
       "2    775  800.0          Yes        Yes          Pasta       Chinese   \n",
       "3    775  800.0          Yes        Yes   Lunch Buffet  North Indian   \n",
       "4    775  800.0          Yes        Yes   Lunch Buffet       Mughlai   \n",
       "\n",
       "       location      rest_type  \\\n",
       "0  Banashankari  Casual Dining   \n",
       "1  Banashankari  Casual Dining   \n",
       "2  Banashankari  Casual Dining   \n",
       "3  Banashankari  Casual Dining   \n",
       "4  Banashankari  Casual Dining   \n",
       "\n",
       "                                        reviews_list menu_item    type  \\\n",
       "0  [('Rated 4.0', 'RATED\\n  A beautiful place to ...        []  Buffet   \n",
       "1  [('Rated 4.0', 'RATED\\n  A beautiful place to ...        []  Buffet   \n",
       "2  [('Rated 4.0', 'RATED\\n  A beautiful place to ...        []  Buffet   \n",
       "3  [('Rated 4.0', 'RATED\\n  A beautiful place to ...        []  Buffet   \n",
       "4  [('Rated 4.0', 'RATED\\n  A beautiful place to ...        []  Buffet   \n",
       "\n",
       "           city  \n",
       "0  Banashankari  \n",
       "1  Banashankari  \n",
       "2  Banashankari  \n",
       "3  Banashankari  \n",
       "4  Banashankari  "
      ]
     },
     "execution_count": 196,
     "metadata": {},
     "output_type": "execute_result"
    }
   ],
   "source": [
    "data.head()"
   ]
  },
  {
   "cell_type": "code",
   "execution_count": 197,
   "id": "e7e57fa1",
   "metadata": {},
   "outputs": [],
   "source": [
    "df = data.drop(['Unnamed: 0'], axis=1)"
   ]
  },
  {
   "cell_type": "code",
   "execution_count": 198,
   "id": "25d81af6",
   "metadata": {},
   "outputs": [
    {
     "data": {
      "text/html": [
       "<div>\n",
       "<style scoped>\n",
       "    .dataframe tbody tr th:only-of-type {\n",
       "        vertical-align: middle;\n",
       "    }\n",
       "\n",
       "    .dataframe tbody tr th {\n",
       "        vertical-align: top;\n",
       "    }\n",
       "\n",
       "    .dataframe thead th {\n",
       "        text-align: right;\n",
       "    }\n",
       "</style>\n",
       "<table border=\"1\" class=\"dataframe\">\n",
       "  <thead>\n",
       "    <tr style=\"text-align: right;\">\n",
       "      <th></th>\n",
       "      <th>name</th>\n",
       "      <th>address</th>\n",
       "      <th>rate</th>\n",
       "      <th>votes</th>\n",
       "      <th>cost</th>\n",
       "      <th>online_order</th>\n",
       "      <th>book_table</th>\n",
       "      <th>dish_liked</th>\n",
       "      <th>cuisines</th>\n",
       "      <th>location</th>\n",
       "      <th>rest_type</th>\n",
       "      <th>reviews_list</th>\n",
       "      <th>menu_item</th>\n",
       "      <th>type</th>\n",
       "      <th>city</th>\n",
       "    </tr>\n",
       "  </thead>\n",
       "  <tbody>\n",
       "    <tr>\n",
       "      <th>0</th>\n",
       "      <td>Jalsa</td>\n",
       "      <td>942, 21st Main Road, 2nd Stage, Banashankari, ...</td>\n",
       "      <td>4.1</td>\n",
       "      <td>775</td>\n",
       "      <td>800.0</td>\n",
       "      <td>Yes</td>\n",
       "      <td>Yes</td>\n",
       "      <td>Pasta</td>\n",
       "      <td>North Indian</td>\n",
       "      <td>Banashankari</td>\n",
       "      <td>Casual Dining</td>\n",
       "      <td>[('Rated 4.0', 'RATED\\n  A beautiful place to ...</td>\n",
       "      <td>[]</td>\n",
       "      <td>Buffet</td>\n",
       "      <td>Banashankari</td>\n",
       "    </tr>\n",
       "    <tr>\n",
       "      <th>1</th>\n",
       "      <td>Jalsa</td>\n",
       "      <td>942, 21st Main Road, 2nd Stage, Banashankari, ...</td>\n",
       "      <td>4.1</td>\n",
       "      <td>775</td>\n",
       "      <td>800.0</td>\n",
       "      <td>Yes</td>\n",
       "      <td>Yes</td>\n",
       "      <td>Pasta</td>\n",
       "      <td>Mughlai</td>\n",
       "      <td>Banashankari</td>\n",
       "      <td>Casual Dining</td>\n",
       "      <td>[('Rated 4.0', 'RATED\\n  A beautiful place to ...</td>\n",
       "      <td>[]</td>\n",
       "      <td>Buffet</td>\n",
       "      <td>Banashankari</td>\n",
       "    </tr>\n",
       "  </tbody>\n",
       "</table>\n",
       "</div>"
      ],
      "text/plain": [
       "    name                                            address  rate  votes  \\\n",
       "0  Jalsa  942, 21st Main Road, 2nd Stage, Banashankari, ...   4.1    775   \n",
       "1  Jalsa  942, 21st Main Road, 2nd Stage, Banashankari, ...   4.1    775   \n",
       "\n",
       "    cost online_order book_table dish_liked      cuisines      location  \\\n",
       "0  800.0          Yes        Yes      Pasta  North Indian  Banashankari   \n",
       "1  800.0          Yes        Yes      Pasta       Mughlai  Banashankari   \n",
       "\n",
       "       rest_type                                       reviews_list menu_item  \\\n",
       "0  Casual Dining  [('Rated 4.0', 'RATED\\n  A beautiful place to ...        []   \n",
       "1  Casual Dining  [('Rated 4.0', 'RATED\\n  A beautiful place to ...        []   \n",
       "\n",
       "     type          city  \n",
       "0  Buffet  Banashankari  \n",
       "1  Buffet  Banashankari  "
      ]
     },
     "execution_count": 198,
     "metadata": {},
     "output_type": "execute_result"
    }
   ],
   "source": [
    "df.head(2)"
   ]
  },
  {
   "cell_type": "code",
   "execution_count": 199,
   "id": "3bfed5a0",
   "metadata": {},
   "outputs": [
    {
     "data": {
      "text/plain": [
       "Index(['name', 'address', 'rate', 'votes', 'cost', 'online_order',\n",
       "       'book_table', 'dish_liked', 'cuisines', 'location', 'rest_type',\n",
       "       'reviews_list', 'menu_item', 'type', 'city'],\n",
       "      dtype='object')"
      ]
     },
     "execution_count": 199,
     "metadata": {},
     "output_type": "execute_result"
    }
   ],
   "source": [
    "df.columns"
   ]
  },
  {
   "cell_type": "code",
   "execution_count": 200,
   "id": "819a1103",
   "metadata": {},
   "outputs": [
    {
     "data": {
      "text/plain": [
       "(465460, 15)"
      ]
     },
     "execution_count": 200,
     "metadata": {},
     "output_type": "execute_result"
    }
   ],
   "source": [
    "df.shape"
   ]
  },
  {
   "cell_type": "code",
   "execution_count": 201,
   "id": "cbf506fa",
   "metadata": {},
   "outputs": [
    {
     "name": "stdout",
     "output_type": "stream",
     "text": [
      "<class 'pandas.core.frame.DataFrame'>\n",
      "RangeIndex: 465460 entries, 0 to 465459\n",
      "Data columns (total 15 columns):\n",
      " #   Column        Non-Null Count   Dtype  \n",
      "---  ------        --------------   -----  \n",
      " 0   name          465460 non-null  object \n",
      " 1   address       465460 non-null  object \n",
      " 2   rate          465460 non-null  float64\n",
      " 3   votes         465460 non-null  int64  \n",
      " 4   cost          465460 non-null  float64\n",
      " 5   online_order  465460 non-null  object \n",
      " 6   book_table    465460 non-null  object \n",
      " 7   dish_liked    465460 non-null  object \n",
      " 8   cuisines      465460 non-null  object \n",
      " 9   location      465460 non-null  object \n",
      " 10  rest_type     465460 non-null  object \n",
      " 11  reviews_list  465460 non-null  object \n",
      " 12  menu_item     465460 non-null  object \n",
      " 13  type          465460 non-null  object \n",
      " 14  city          465460 non-null  object \n",
      "dtypes: float64(2), int64(1), object(12)\n",
      "memory usage: 53.3+ MB\n"
     ]
    }
   ],
   "source": [
    "df.info()"
   ]
  },
  {
   "cell_type": "markdown",
   "id": "f4d3f3cf",
   "metadata": {},
   "source": [
    "INSPECT CATEGORICAL VARIABLES:"
   ]
  },
  {
   "cell_type": "code",
   "execution_count": 202,
   "id": "2718b05a",
   "metadata": {
    "scrolled": true
   },
   "outputs": [
    {
     "name": "stdout",
     "output_type": "stream",
     "text": [
      "Columns with numerical values → Index(['rate', 'votes', 'cost'], dtype='object')\n",
      "--------------------------------------------------------------------------------\n",
      "Columns in dataframe are categorical variables:\n"
     ]
    },
    {
     "data": {
      "text/plain": [
       "array(['location', 'dish_liked', 'address', 'rest_type', 'type',\n",
       "       'reviews_list', 'city', 'online_order', 'book_table', 'cuisines',\n",
       "       'name', 'menu_item'], dtype='<U12')"
      ]
     },
     "execution_count": 202,
     "metadata": {},
     "output_type": "execute_result"
    }
   ],
   "source": [
    "# Check which columns in dataframe are categorical variables:\n",
    "cols = df.columns\n",
    "num_cols = df._get_numeric_data().columns\n",
    "print('Columns with numerical values →', num_cols)\n",
    "print('----'*20)\n",
    "print('Columns in dataframe are categorical variables:')\n",
    "np.array(list(set(cols) - set(num_cols)))"
   ]
  },
  {
   "cell_type": "code",
   "execution_count": 203,
   "id": "66c24862",
   "metadata": {},
   "outputs": [
    {
     "data": {
      "text/plain": [
       "0    Yes\n",
       "1    Yes\n",
       "2    Yes\n",
       "3    Yes\n",
       "4    Yes\n",
       "Name: book_table, dtype: object"
      ]
     },
     "execution_count": 203,
     "metadata": {},
     "output_type": "execute_result"
    }
   ],
   "source": [
    "# Observe the 'book_table' column values:\n",
    "df['book_table'].head()"
   ]
  },
  {
   "cell_type": "code",
   "execution_count": 204,
   "id": "10c0c9be",
   "metadata": {},
   "outputs": [
    {
     "data": {
      "text/plain": [
       "dtype('O')"
      ]
     },
     "execution_count": 204,
     "metadata": {},
     "output_type": "execute_result"
    }
   ],
   "source": [
    "# Convert 'online_order' column data type to numerical: (coding this section the longer way)\n",
    "df.book_table[df.book_table == 'Yes'] = 1 \n",
    "df.book_table[df.book_table == 'No'] = 0\n",
    "\n",
    "# Check data type:\n",
    "df['book_table'].dtype\n",
    "\n",
    "# Observation: Data type of 'online_order' is 'object'."
   ]
  },
  {
   "cell_type": "code",
   "execution_count": 205,
   "id": "032cd7fc",
   "metadata": {},
   "outputs": [
    {
     "data": {
      "text/plain": [
       "dtype('int64')"
      ]
     },
     "execution_count": 205,
     "metadata": {},
     "output_type": "execute_result"
    }
   ],
   "source": [
    "# Convert 'book_table' column data type to 'numerical'.\n",
    "df.book_table = pd.to_numeric(df.book_table)\n",
    "df['book_table'].dtype"
   ]
  },
  {
   "cell_type": "code",
   "execution_count": 206,
   "id": "d96dddb6",
   "metadata": {
    "scrolled": true
   },
   "outputs": [
    {
     "data": {
      "text/plain": [
       "0    1\n",
       "1    1\n",
       "2    1\n",
       "3    1\n",
       "4    1\n",
       "Name: book_table, dtype: int64"
      ]
     },
     "execution_count": 206,
     "metadata": {},
     "output_type": "execute_result"
    }
   ],
   "source": [
    "df['book_table'].head()"
   ]
  },
  {
   "cell_type": "code",
   "execution_count": 207,
   "id": "ee3d0f68",
   "metadata": {},
   "outputs": [
    {
     "name": "stdout",
     "output_type": "stream",
     "text": [
      "Yes = 1 | No = 0\n"
     ]
    },
    {
     "data": {
      "text/plain": [
       "0    277679\n",
       "1    187781\n",
       "Name: book_table, dtype: int64"
      ]
     },
     "execution_count": 207,
     "metadata": {},
     "output_type": "execute_result"
    }
   ],
   "source": [
    "# Check value counts of 'book_table' column:\n",
    "print('Yes = 1','|', 'No = 0')\n",
    "df.book_table.value_counts()"
   ]
  },
  {
   "cell_type": "code",
   "execution_count": 208,
   "id": "84c9294c",
   "metadata": {
    "scrolled": true
   },
   "outputs": [
    {
     "data": {
      "text/plain": [
       "0    Yes\n",
       "1    Yes\n",
       "2    Yes\n",
       "3    Yes\n",
       "4    Yes\n",
       "Name: online_order, dtype: object"
      ]
     },
     "execution_count": 208,
     "metadata": {},
     "output_type": "execute_result"
    }
   ],
   "source": [
    "# Observe the 'online_order' column values:\n",
    "df['online_order'].head()"
   ]
  },
  {
   "cell_type": "code",
   "execution_count": 209,
   "id": "de61ca87",
   "metadata": {},
   "outputs": [
    {
     "data": {
      "text/plain": [
       "dtype('O')"
      ]
     },
     "execution_count": 209,
     "metadata": {},
     "output_type": "execute_result"
    }
   ],
   "source": [
    "# Convert 'online_order' column data type to numerical: (coding this section the longer way)\n",
    "df.online_order[df.online_order == 'Yes'] = 1 \n",
    "df.online_order[df.online_order == 'No'] = 0\n",
    "\n",
    "# Check data type:\n",
    "df['online_order'].dtype\n",
    "\n",
    "# Observation: Data type of 'online_order' is 'object'."
   ]
  },
  {
   "cell_type": "code",
   "execution_count": 210,
   "id": "13082fb6",
   "metadata": {},
   "outputs": [
    {
     "data": {
      "text/plain": [
       "dtype('int64')"
      ]
     },
     "execution_count": 210,
     "metadata": {},
     "output_type": "execute_result"
    }
   ],
   "source": [
    "# Convert 'online_order' column data type to 'numerical'.\n",
    "df.online_order = pd.to_numeric(df.online_order)\n",
    "df['online_order'].dtype"
   ]
  },
  {
   "cell_type": "code",
   "execution_count": 211,
   "id": "5143f197",
   "metadata": {},
   "outputs": [
    {
     "name": "stdout",
     "output_type": "stream",
     "text": [
      "Yes = 1 | No = 0\n"
     ]
    },
    {
     "data": {
      "text/plain": [
       "1    319781\n",
       "0    145679\n",
       "Name: online_order, dtype: int64"
      ]
     },
     "execution_count": 211,
     "metadata": {},
     "output_type": "execute_result"
    }
   ],
   "source": [
    "# Check value counts of 'online_order' column:\n",
    "print('Yes = 1','|', 'No = 0')\n",
    "df.online_order.value_counts()"
   ]
  },
  {
   "cell_type": "code",
   "execution_count": 212,
   "id": "40624647",
   "metadata": {
    "scrolled": false
   },
   "outputs": [
    {
     "data": {
      "text/plain": [
       "array(['Banashankari', 'Basavanagudi', 'Jayanagar', 'Kumaraswamy Layout',\n",
       "       'Rajarajeshwari Nagar', 'Mysore Road', 'Uttarahalli',\n",
       "       'South Bangalore', 'Vijay Nagar', 'Bannerghatta Road', 'JP Nagar',\n",
       "       'BTM', 'Wilson Garden', 'Koramangala 5th Block', 'Shanti Nagar',\n",
       "       'Richmond Road', 'City Market', 'Bellandur', 'Sarjapur Road',\n",
       "       'Marathahalli', 'HSR', 'Old Airport Road', 'Indiranagar',\n",
       "       'Koramangala 1st Block', 'East Bangalore', 'MG Road',\n",
       "       'Brigade Road', 'Lavelle Road', 'Church Street', 'Ulsoor',\n",
       "       'Residency Road', 'Shivajinagar', 'Infantry Road',\n",
       "       'St. Marks Road', 'Cunningham Road', 'Race Course Road', 'Domlur',\n",
       "       'Koramangala 8th Block', 'Frazer Town', 'Ejipura', 'Vasanth Nagar',\n",
       "       'Jeevan Bhima Nagar', 'Old Madras Road', 'Commercial Street',\n",
       "       'Koramangala 6th Block', 'Majestic', 'Langford Town',\n",
       "       'Koramangala 7th Block', 'Brookefield', 'Whitefield',\n",
       "       'ITPL Main Road, Whitefield', 'Varthur Main Road, Whitefield',\n",
       "       'Koramangala 2nd Block', 'Koramangala 3rd Block',\n",
       "       'Koramangala 4th Block', 'Koramangala', 'Bommanahalli',\n",
       "       'Hosur Road', 'Seshadripuram', 'Electronic City', 'Banaswadi',\n",
       "       'North Bangalore', 'RT Nagar', 'Kammanahalli', 'Hennur',\n",
       "       'HBR Layout', 'Kalyan Nagar', 'Thippasandra', 'CV Raman Nagar',\n",
       "       'Kaggadasapura', 'Kanakapura Road', 'Nagawara', 'Rammurthy Nagar',\n",
       "       'Sankey Road', 'Central Bangalore', 'Malleshwaram',\n",
       "       'Sadashiv Nagar', 'Basaveshwara Nagar', 'Rajajinagar',\n",
       "       'New BEL Road', 'West Bangalore', 'Yeshwantpur', 'Sanjay Nagar',\n",
       "       'Sahakara Nagar', 'Jalahalli', 'Yelahanka', 'Magadi Road',\n",
       "       'KR Puram'], dtype=object)"
      ]
     },
     "execution_count": 212,
     "metadata": {},
     "output_type": "execute_result"
    }
   ],
   "source": [
    "# Observe 'location' column: Inspect the different kinds of values in the column:\n",
    "df['location'].unique()"
   ]
  },
  {
   "cell_type": "code",
   "execution_count": 213,
   "id": "3fd032e5",
   "metadata": {},
   "outputs": [],
   "source": [
    "# Observe value counts of columns: 'location,'rest_type','cuisines','menu_item'"
   ]
  },
  {
   "cell_type": "code",
   "execution_count": 214,
   "id": "d2e85ec6",
   "metadata": {
    "scrolled": false
   },
   "outputs": [
    {
     "data": {
      "text/plain": [
       "465460"
      ]
     },
     "execution_count": 214,
     "metadata": {},
     "output_type": "execute_result"
    }
   ],
   "source": [
    "df.location.value_counts().sum()"
   ]
  },
  {
   "cell_type": "code",
   "execution_count": 215,
   "id": "08ba1a6e",
   "metadata": {
    "scrolled": true
   },
   "outputs": [
    {
     "data": {
      "text/plain": [
       "465460"
      ]
     },
     "execution_count": 215,
     "metadata": {},
     "output_type": "execute_result"
    }
   ],
   "source": [
    "df.rest_type.value_counts().sum()"
   ]
  },
  {
   "cell_type": "code",
   "execution_count": 219,
   "id": "d25602a7",
   "metadata": {
    "scrolled": true
   },
   "outputs": [
    {
     "data": {
      "text/plain": [
       "465460"
      ]
     },
     "execution_count": 219,
     "metadata": {},
     "output_type": "execute_result"
    }
   ],
   "source": [
    "df.cuisines.value_counts().sum()"
   ]
  },
  {
   "cell_type": "code",
   "execution_count": 220,
   "id": "7ecfea7b",
   "metadata": {
    "scrolled": false
   },
   "outputs": [
    {
     "data": {
      "text/plain": [
       "465460"
      ]
     },
     "execution_count": 220,
     "metadata": {},
     "output_type": "execute_result"
    }
   ],
   "source": [
    "df.menu_item.value_counts().sum()"
   ]
  },
  {
   "cell_type": "code",
   "execution_count": 221,
   "id": "441de801",
   "metadata": {},
   "outputs": [],
   "source": [
    "# Classify different categorical values by Label, columns: 'location','rest_type','cuisines','menu_item'.\n",
    "# Create Label Encoder tool:\n",
    "label_enc = LabelEncoder()"
   ]
  },
  {
   "cell_type": "code",
   "execution_count": 222,
   "id": "b1662c19",
   "metadata": {},
   "outputs": [],
   "source": [
    "# Fit Label Encoder the columns: 'location','rest_type','cuisines','menu_item'.\n",
    "df.location = label_enc.fit_transform(df.location)\n",
    "df.rest_type = label_enc.fit_transform(df.rest_type)\n",
    "df.cuisines = label_enc.fit_transform(df.cuisines)\n",
    "df.menu_item = label_enc.fit_transform(df.menu_item)"
   ]
  },
  {
   "cell_type": "code",
   "execution_count": 223,
   "id": "c8f6af3e",
   "metadata": {},
   "outputs": [
    {
     "data": {
      "text/html": [
       "<div>\n",
       "<style scoped>\n",
       "    .dataframe tbody tr th:only-of-type {\n",
       "        vertical-align: middle;\n",
       "    }\n",
       "\n",
       "    .dataframe tbody tr th {\n",
       "        vertical-align: top;\n",
       "    }\n",
       "\n",
       "    .dataframe thead th {\n",
       "        text-align: right;\n",
       "    }\n",
       "</style>\n",
       "<table border=\"1\" class=\"dataframe\">\n",
       "  <thead>\n",
       "    <tr style=\"text-align: right;\">\n",
       "      <th></th>\n",
       "      <th>location</th>\n",
       "      <th>rest_type</th>\n",
       "      <th>cuisines</th>\n",
       "      <th>menu_item</th>\n",
       "    </tr>\n",
       "  </thead>\n",
       "  <tbody>\n",
       "    <tr>\n",
       "      <th>0</th>\n",
       "      <td>1</td>\n",
       "      <td>19</td>\n",
       "      <td>150</td>\n",
       "      <td>5047</td>\n",
       "    </tr>\n",
       "    <tr>\n",
       "      <th>1</th>\n",
       "      <td>1</td>\n",
       "      <td>19</td>\n",
       "      <td>63</td>\n",
       "      <td>5047</td>\n",
       "    </tr>\n",
       "    <tr>\n",
       "      <th>2</th>\n",
       "      <td>1</td>\n",
       "      <td>19</td>\n",
       "      <td>25</td>\n",
       "      <td>5047</td>\n",
       "    </tr>\n",
       "    <tr>\n",
       "      <th>3</th>\n",
       "      <td>1</td>\n",
       "      <td>19</td>\n",
       "      <td>150</td>\n",
       "      <td>5047</td>\n",
       "    </tr>\n",
       "    <tr>\n",
       "      <th>4</th>\n",
       "      <td>1</td>\n",
       "      <td>19</td>\n",
       "      <td>63</td>\n",
       "      <td>5047</td>\n",
       "    </tr>\n",
       "    <tr>\n",
       "      <th>...</th>\n",
       "      <td>...</td>\n",
       "      <td>...</td>\n",
       "      <td>...</td>\n",
       "      <td>...</td>\n",
       "    </tr>\n",
       "    <tr>\n",
       "      <th>465455</th>\n",
       "      <td>84</td>\n",
       "      <td>19</td>\n",
       "      <td>67</td>\n",
       "      <td>5047</td>\n",
       "    </tr>\n",
       "    <tr>\n",
       "      <th>465456</th>\n",
       "      <td>84</td>\n",
       "      <td>1</td>\n",
       "      <td>67</td>\n",
       "      <td>5047</td>\n",
       "    </tr>\n",
       "    <tr>\n",
       "      <th>465457</th>\n",
       "      <td>25</td>\n",
       "      <td>16</td>\n",
       "      <td>119</td>\n",
       "      <td>5047</td>\n",
       "    </tr>\n",
       "    <tr>\n",
       "      <th>465458</th>\n",
       "      <td>25</td>\n",
       "      <td>16</td>\n",
       "      <td>119</td>\n",
       "      <td>5047</td>\n",
       "    </tr>\n",
       "    <tr>\n",
       "      <th>465459</th>\n",
       "      <td>25</td>\n",
       "      <td>16</td>\n",
       "      <td>119</td>\n",
       "      <td>5047</td>\n",
       "    </tr>\n",
       "  </tbody>\n",
       "</table>\n",
       "<p>465460 rows × 4 columns</p>\n",
       "</div>"
      ],
      "text/plain": [
       "        location  rest_type  cuisines  menu_item\n",
       "0              1         19       150       5047\n",
       "1              1         19        63       5047\n",
       "2              1         19        25       5047\n",
       "3              1         19       150       5047\n",
       "4              1         19        63       5047\n",
       "...          ...        ...       ...        ...\n",
       "465455        84         19        67       5047\n",
       "465456        84          1        67       5047\n",
       "465457        25         16       119       5047\n",
       "465458        25         16       119       5047\n",
       "465459        25         16       119       5047\n",
       "\n",
       "[465460 rows x 4 columns]"
      ]
     },
     "execution_count": 223,
     "metadata": {},
     "output_type": "execute_result"
    }
   ],
   "source": [
    "# Observe the columns with labeled values:\n",
    "df[['location','rest_type','cuisines','menu_item']]"
   ]
  },
  {
   "cell_type": "markdown",
   "id": "e7b74ea8",
   "metadata": {},
   "source": [
    "SELECT FEATURES TO USE AND FINALIZE DATASET FOR MODEL BUILDING:"
   ]
  },
  {
   "cell_type": "code",
   "execution_count": 224,
   "id": "5f09c92e",
   "metadata": {
    "scrolled": false
   },
   "outputs": [
    {
     "data": {
      "text/html": [
       "<div>\n",
       "<style scoped>\n",
       "    .dataframe tbody tr th:only-of-type {\n",
       "        vertical-align: middle;\n",
       "    }\n",
       "\n",
       "    .dataframe tbody tr th {\n",
       "        vertical-align: top;\n",
       "    }\n",
       "\n",
       "    .dataframe thead th {\n",
       "        text-align: right;\n",
       "    }\n",
       "</style>\n",
       "<table border=\"1\" class=\"dataframe\">\n",
       "  <thead>\n",
       "    <tr style=\"text-align: right;\">\n",
       "      <th></th>\n",
       "      <th>rate</th>\n",
       "      <th>votes</th>\n",
       "      <th>cost</th>\n",
       "      <th>online_order</th>\n",
       "      <th>book_table</th>\n",
       "      <th>cuisines</th>\n",
       "      <th>location</th>\n",
       "      <th>rest_type</th>\n",
       "      <th>menu_item</th>\n",
       "    </tr>\n",
       "  </thead>\n",
       "  <tbody>\n",
       "    <tr>\n",
       "      <th>0</th>\n",
       "      <td>4.1</td>\n",
       "      <td>775</td>\n",
       "      <td>800.0</td>\n",
       "      <td>1</td>\n",
       "      <td>1</td>\n",
       "      <td>150</td>\n",
       "      <td>1</td>\n",
       "      <td>19</td>\n",
       "      <td>5047</td>\n",
       "    </tr>\n",
       "    <tr>\n",
       "      <th>1</th>\n",
       "      <td>4.1</td>\n",
       "      <td>775</td>\n",
       "      <td>800.0</td>\n",
       "      <td>1</td>\n",
       "      <td>1</td>\n",
       "      <td>63</td>\n",
       "      <td>1</td>\n",
       "      <td>19</td>\n",
       "      <td>5047</td>\n",
       "    </tr>\n",
       "    <tr>\n",
       "      <th>2</th>\n",
       "      <td>4.1</td>\n",
       "      <td>775</td>\n",
       "      <td>800.0</td>\n",
       "      <td>1</td>\n",
       "      <td>1</td>\n",
       "      <td>25</td>\n",
       "      <td>1</td>\n",
       "      <td>19</td>\n",
       "      <td>5047</td>\n",
       "    </tr>\n",
       "    <tr>\n",
       "      <th>3</th>\n",
       "      <td>4.1</td>\n",
       "      <td>775</td>\n",
       "      <td>800.0</td>\n",
       "      <td>1</td>\n",
       "      <td>1</td>\n",
       "      <td>150</td>\n",
       "      <td>1</td>\n",
       "      <td>19</td>\n",
       "      <td>5047</td>\n",
       "    </tr>\n",
       "    <tr>\n",
       "      <th>4</th>\n",
       "      <td>4.1</td>\n",
       "      <td>775</td>\n",
       "      <td>800.0</td>\n",
       "      <td>1</td>\n",
       "      <td>1</td>\n",
       "      <td>63</td>\n",
       "      <td>1</td>\n",
       "      <td>19</td>\n",
       "      <td>5047</td>\n",
       "    </tr>\n",
       "    <tr>\n",
       "      <th>...</th>\n",
       "      <td>...</td>\n",
       "      <td>...</td>\n",
       "      <td>...</td>\n",
       "      <td>...</td>\n",
       "      <td>...</td>\n",
       "      <td>...</td>\n",
       "      <td>...</td>\n",
       "      <td>...</td>\n",
       "      <td>...</td>\n",
       "    </tr>\n",
       "    <tr>\n",
       "      <th>465455</th>\n",
       "      <td>2.5</td>\n",
       "      <td>81</td>\n",
       "      <td>800.0</td>\n",
       "      <td>0</td>\n",
       "      <td>0</td>\n",
       "      <td>67</td>\n",
       "      <td>84</td>\n",
       "      <td>19</td>\n",
       "      <td>5047</td>\n",
       "    </tr>\n",
       "    <tr>\n",
       "      <th>465456</th>\n",
       "      <td>2.5</td>\n",
       "      <td>81</td>\n",
       "      <td>800.0</td>\n",
       "      <td>0</td>\n",
       "      <td>0</td>\n",
       "      <td>67</td>\n",
       "      <td>84</td>\n",
       "      <td>1</td>\n",
       "      <td>5047</td>\n",
       "    </tr>\n",
       "    <tr>\n",
       "      <th>465457</th>\n",
       "      <td>4.3</td>\n",
       "      <td>236</td>\n",
       "      <td>2500.0</td>\n",
       "      <td>0</td>\n",
       "      <td>1</td>\n",
       "      <td>119</td>\n",
       "      <td>25</td>\n",
       "      <td>16</td>\n",
       "      <td>5047</td>\n",
       "    </tr>\n",
       "    <tr>\n",
       "      <th>465458</th>\n",
       "      <td>4.3</td>\n",
       "      <td>236</td>\n",
       "      <td>2500.0</td>\n",
       "      <td>0</td>\n",
       "      <td>1</td>\n",
       "      <td>119</td>\n",
       "      <td>25</td>\n",
       "      <td>16</td>\n",
       "      <td>5047</td>\n",
       "    </tr>\n",
       "    <tr>\n",
       "      <th>465459</th>\n",
       "      <td>4.3</td>\n",
       "      <td>236</td>\n",
       "      <td>2500.0</td>\n",
       "      <td>0</td>\n",
       "      <td>1</td>\n",
       "      <td>119</td>\n",
       "      <td>25</td>\n",
       "      <td>16</td>\n",
       "      <td>5047</td>\n",
       "    </tr>\n",
       "  </tbody>\n",
       "</table>\n",
       "<p>465460 rows × 9 columns</p>\n",
       "</div>"
      ],
      "text/plain": [
       "        rate  votes    cost  online_order  book_table  cuisines  location  \\\n",
       "0        4.1    775   800.0             1           1       150         1   \n",
       "1        4.1    775   800.0             1           1        63         1   \n",
       "2        4.1    775   800.0             1           1        25         1   \n",
       "3        4.1    775   800.0             1           1       150         1   \n",
       "4        4.1    775   800.0             1           1        63         1   \n",
       "...      ...    ...     ...           ...         ...       ...       ...   \n",
       "465455   2.5     81   800.0             0           0        67        84   \n",
       "465456   2.5     81   800.0             0           0        67        84   \n",
       "465457   4.3    236  2500.0             0           1       119        25   \n",
       "465458   4.3    236  2500.0             0           1       119        25   \n",
       "465459   4.3    236  2500.0             0           1       119        25   \n",
       "\n",
       "        rest_type  menu_item  \n",
       "0              19       5047  \n",
       "1              19       5047  \n",
       "2              19       5047  \n",
       "3              19       5047  \n",
       "4              19       5047  \n",
       "...           ...        ...  \n",
       "465455         19       5047  \n",
       "465456          1       5047  \n",
       "465457         16       5047  \n",
       "465458         16       5047  \n",
       "465459         16       5047  \n",
       "\n",
       "[465460 rows x 9 columns]"
      ]
     },
     "execution_count": 224,
     "metadata": {},
     "output_type": "execute_result"
    }
   ],
   "source": [
    "# Feature selection: select features to use for the model:\n",
    "# Create new dataset with selected features, to use for the model.\n",
    "df_final = df.iloc[:,[2,3,4,5,6,8,9,10,12]]\n",
    "\n",
    "# Observe the final dataset:\n",
    "df_final\n",
    "# Observation: It seems that the number of entries in the dataset has increased too much.\n",
    "# 465460 rows × 9 columns\n",
    "# Look for duplicated and NAN values:"
   ]
  },
  {
   "cell_type": "code",
   "execution_count": 225,
   "id": "d167dd50",
   "metadata": {},
   "outputs": [],
   "source": [
    "df_final.duplicated().sum()\n",
    "df_final.drop_duplicates(inplace=True)"
   ]
  },
  {
   "cell_type": "code",
   "execution_count": 226,
   "id": "fb4881ea",
   "metadata": {},
   "outputs": [
    {
     "data": {
      "text/plain": [
       "(47462, 9)"
      ]
     },
     "execution_count": 226,
     "metadata": {},
     "output_type": "execute_result"
    }
   ],
   "source": [
    "df_final.shape\n",
    "# Observation:\n",
    "# Dataset shape from: 465460 rows × 9 columns, the real number shape of dataest now is: 47462, 10"
   ]
  },
  {
   "cell_type": "code",
   "execution_count": 227,
   "id": "c9c28ad4",
   "metadata": {},
   "outputs": [
    {
     "name": "stdout",
     "output_type": "stream",
     "text": [
      "<class 'pandas.core.frame.DataFrame'>\n",
      "Int64Index: 47462 entries, 0 to 464764\n",
      "Data columns (total 9 columns):\n",
      " #   Column        Non-Null Count  Dtype  \n",
      "---  ------        --------------  -----  \n",
      " 0   rate          47462 non-null  float64\n",
      " 1   votes         47462 non-null  int64  \n",
      " 2   cost          47462 non-null  float64\n",
      " 3   online_order  47462 non-null  int64  \n",
      " 4   book_table    47462 non-null  int64  \n",
      " 5   cuisines      47462 non-null  int32  \n",
      " 6   location      47462 non-null  int32  \n",
      " 7   rest_type     47462 non-null  int32  \n",
      " 8   menu_item     47462 non-null  int32  \n",
      "dtypes: float64(2), int32(4), int64(3)\n",
      "memory usage: 2.9 MB\n"
     ]
    }
   ],
   "source": [
    "#Remove the NaN values from the dataset\n",
    "df_final.isnull().sum()\n",
    "df_final.dropna(how='any',inplace=True)\n",
    "df_final.info()"
   ]
  },
  {
   "cell_type": "markdown",
   "id": "a8d27e56",
   "metadata": {},
   "source": [
    "***\n",
    "<b>Convert final dataset to csv file: (This has already been done.)</b><br>\n",
    "<b>Code to do it →</b> df_final.to_csv('Zomato_finalclean.csv')\n",
    "***"
   ]
  },
  {
   "cell_type": "code",
   "execution_count": 229,
   "id": "496bd0c1",
   "metadata": {},
   "outputs": [],
   "source": [
    "#df_final.to_csv('Zomato_finalclean.csv')"
   ]
  },
  {
   "cell_type": "markdown",
   "id": "a16453a4",
   "metadata": {},
   "source": [
    "BUILD MODEL:"
   ]
  },
  {
   "cell_type": "code",
   "execution_count": 230,
   "id": "328ac64c",
   "metadata": {},
   "outputs": [
    {
     "data": {
      "text/html": [
       "<div>\n",
       "<style scoped>\n",
       "    .dataframe tbody tr th:only-of-type {\n",
       "        vertical-align: middle;\n",
       "    }\n",
       "\n",
       "    .dataframe tbody tr th {\n",
       "        vertical-align: top;\n",
       "    }\n",
       "\n",
       "    .dataframe thead th {\n",
       "        text-align: right;\n",
       "    }\n",
       "</style>\n",
       "<table border=\"1\" class=\"dataframe\">\n",
       "  <thead>\n",
       "    <tr style=\"text-align: right;\">\n",
       "      <th></th>\n",
       "      <th>Unnamed: 0</th>\n",
       "      <th>rate</th>\n",
       "      <th>votes</th>\n",
       "      <th>cost</th>\n",
       "      <th>online_order</th>\n",
       "      <th>book_table</th>\n",
       "      <th>cuisines</th>\n",
       "      <th>location</th>\n",
       "      <th>rest_type</th>\n",
       "      <th>menu_item</th>\n",
       "    </tr>\n",
       "  </thead>\n",
       "  <tbody>\n",
       "    <tr>\n",
       "      <th>0</th>\n",
       "      <td>0</td>\n",
       "      <td>4.1</td>\n",
       "      <td>775</td>\n",
       "      <td>800.0</td>\n",
       "      <td>1</td>\n",
       "      <td>1</td>\n",
       "      <td>150</td>\n",
       "      <td>1</td>\n",
       "      <td>19</td>\n",
       "      <td>5047</td>\n",
       "    </tr>\n",
       "    <tr>\n",
       "      <th>1</th>\n",
       "      <td>1</td>\n",
       "      <td>4.1</td>\n",
       "      <td>775</td>\n",
       "      <td>800.0</td>\n",
       "      <td>1</td>\n",
       "      <td>1</td>\n",
       "      <td>63</td>\n",
       "      <td>1</td>\n",
       "      <td>19</td>\n",
       "      <td>5047</td>\n",
       "    </tr>\n",
       "    <tr>\n",
       "      <th>2</th>\n",
       "      <td>2</td>\n",
       "      <td>4.1</td>\n",
       "      <td>775</td>\n",
       "      <td>800.0</td>\n",
       "      <td>1</td>\n",
       "      <td>1</td>\n",
       "      <td>25</td>\n",
       "      <td>1</td>\n",
       "      <td>19</td>\n",
       "      <td>5047</td>\n",
       "    </tr>\n",
       "    <tr>\n",
       "      <th>3</th>\n",
       "      <td>21</td>\n",
       "      <td>4.1</td>\n",
       "      <td>787</td>\n",
       "      <td>800.0</td>\n",
       "      <td>1</td>\n",
       "      <td>0</td>\n",
       "      <td>113</td>\n",
       "      <td>1</td>\n",
       "      <td>19</td>\n",
       "      <td>5047</td>\n",
       "    </tr>\n",
       "    <tr>\n",
       "      <th>4</th>\n",
       "      <td>22</td>\n",
       "      <td>4.1</td>\n",
       "      <td>787</td>\n",
       "      <td>800.0</td>\n",
       "      <td>1</td>\n",
       "      <td>0</td>\n",
       "      <td>67</td>\n",
       "      <td>1</td>\n",
       "      <td>19</td>\n",
       "      <td>5047</td>\n",
       "    </tr>\n",
       "    <tr>\n",
       "      <th>...</th>\n",
       "      <td>...</td>\n",
       "      <td>...</td>\n",
       "      <td>...</td>\n",
       "      <td>...</td>\n",
       "      <td>...</td>\n",
       "      <td>...</td>\n",
       "      <td>...</td>\n",
       "      <td>...</td>\n",
       "      <td>...</td>\n",
       "      <td>...</td>\n",
       "    </tr>\n",
       "    <tr>\n",
       "      <th>47457</th>\n",
       "      <td>464760</td>\n",
       "      <td>4.0</td>\n",
       "      <td>2856</td>\n",
       "      <td>1100.0</td>\n",
       "      <td>1</td>\n",
       "      <td>1</td>\n",
       "      <td>67</td>\n",
       "      <td>84</td>\n",
       "      <td>1</td>\n",
       "      <td>1908</td>\n",
       "    </tr>\n",
       "    <tr>\n",
       "      <th>47458</th>\n",
       "      <td>464761</td>\n",
       "      <td>4.0</td>\n",
       "      <td>2856</td>\n",
       "      <td>1100.0</td>\n",
       "      <td>1</td>\n",
       "      <td>1</td>\n",
       "      <td>16</td>\n",
       "      <td>84</td>\n",
       "      <td>19</td>\n",
       "      <td>1908</td>\n",
       "    </tr>\n",
       "    <tr>\n",
       "      <th>47459</th>\n",
       "      <td>464762</td>\n",
       "      <td>4.0</td>\n",
       "      <td>2856</td>\n",
       "      <td>1100.0</td>\n",
       "      <td>1</td>\n",
       "      <td>1</td>\n",
       "      <td>16</td>\n",
       "      <td>84</td>\n",
       "      <td>1</td>\n",
       "      <td>1908</td>\n",
       "    </tr>\n",
       "    <tr>\n",
       "      <th>47460</th>\n",
       "      <td>464763</td>\n",
       "      <td>4.0</td>\n",
       "      <td>2856</td>\n",
       "      <td>1100.0</td>\n",
       "      <td>1</td>\n",
       "      <td>1</td>\n",
       "      <td>0</td>\n",
       "      <td>84</td>\n",
       "      <td>19</td>\n",
       "      <td>1908</td>\n",
       "    </tr>\n",
       "    <tr>\n",
       "      <th>47461</th>\n",
       "      <td>464764</td>\n",
       "      <td>4.0</td>\n",
       "      <td>2856</td>\n",
       "      <td>1100.0</td>\n",
       "      <td>1</td>\n",
       "      <td>1</td>\n",
       "      <td>0</td>\n",
       "      <td>84</td>\n",
       "      <td>1</td>\n",
       "      <td>1908</td>\n",
       "    </tr>\n",
       "  </tbody>\n",
       "</table>\n",
       "<p>47462 rows × 10 columns</p>\n",
       "</div>"
      ],
      "text/plain": [
       "       Unnamed: 0  rate  votes    cost  online_order  book_table  cuisines  \\\n",
       "0               0   4.1    775   800.0             1           1       150   \n",
       "1               1   4.1    775   800.0             1           1        63   \n",
       "2               2   4.1    775   800.0             1           1        25   \n",
       "3              21   4.1    787   800.0             1           0       113   \n",
       "4              22   4.1    787   800.0             1           0        67   \n",
       "...           ...   ...    ...     ...           ...         ...       ...   \n",
       "47457      464760   4.0   2856  1100.0             1           1        67   \n",
       "47458      464761   4.0   2856  1100.0             1           1        16   \n",
       "47459      464762   4.0   2856  1100.0             1           1        16   \n",
       "47460      464763   4.0   2856  1100.0             1           1         0   \n",
       "47461      464764   4.0   2856  1100.0             1           1         0   \n",
       "\n",
       "       location  rest_type  menu_item  \n",
       "0             1         19       5047  \n",
       "1             1         19       5047  \n",
       "2             1         19       5047  \n",
       "3             1         19       5047  \n",
       "4             1         19       5047  \n",
       "...         ...        ...        ...  \n",
       "47457        84          1       1908  \n",
       "47458        84         19       1908  \n",
       "47459        84          1       1908  \n",
       "47460        84         19       1908  \n",
       "47461        84          1       1908  \n",
       "\n",
       "[47462 rows x 10 columns]"
      ]
     },
     "execution_count": 230,
     "metadata": {},
     "output_type": "execute_result"
    }
   ],
   "source": [
    "# Upload final dataset to use for the model:\n",
    "data_final = pd.read_csv('Zomato_finalclean.csv')\n",
    "data_final"
   ]
  },
  {
   "cell_type": "code",
   "execution_count": 231,
   "id": "8d6095de",
   "metadata": {
    "scrolled": false
   },
   "outputs": [
    {
     "data": {
      "text/html": [
       "<div>\n",
       "<style scoped>\n",
       "    .dataframe tbody tr th:only-of-type {\n",
       "        vertical-align: middle;\n",
       "    }\n",
       "\n",
       "    .dataframe tbody tr th {\n",
       "        vertical-align: top;\n",
       "    }\n",
       "\n",
       "    .dataframe thead th {\n",
       "        text-align: right;\n",
       "    }\n",
       "</style>\n",
       "<table border=\"1\" class=\"dataframe\">\n",
       "  <thead>\n",
       "    <tr style=\"text-align: right;\">\n",
       "      <th></th>\n",
       "      <th>rate</th>\n",
       "      <th>votes</th>\n",
       "      <th>cost</th>\n",
       "      <th>online_order</th>\n",
       "      <th>book_table</th>\n",
       "      <th>cuisines</th>\n",
       "      <th>location</th>\n",
       "      <th>rest_type</th>\n",
       "      <th>menu_item</th>\n",
       "    </tr>\n",
       "  </thead>\n",
       "  <tbody>\n",
       "    <tr>\n",
       "      <th>0</th>\n",
       "      <td>4.1</td>\n",
       "      <td>775</td>\n",
       "      <td>800.0</td>\n",
       "      <td>1</td>\n",
       "      <td>1</td>\n",
       "      <td>150</td>\n",
       "      <td>1</td>\n",
       "      <td>19</td>\n",
       "      <td>5047</td>\n",
       "    </tr>\n",
       "    <tr>\n",
       "      <th>1</th>\n",
       "      <td>4.1</td>\n",
       "      <td>775</td>\n",
       "      <td>800.0</td>\n",
       "      <td>1</td>\n",
       "      <td>1</td>\n",
       "      <td>63</td>\n",
       "      <td>1</td>\n",
       "      <td>19</td>\n",
       "      <td>5047</td>\n",
       "    </tr>\n",
       "    <tr>\n",
       "      <th>2</th>\n",
       "      <td>4.1</td>\n",
       "      <td>775</td>\n",
       "      <td>800.0</td>\n",
       "      <td>1</td>\n",
       "      <td>1</td>\n",
       "      <td>25</td>\n",
       "      <td>1</td>\n",
       "      <td>19</td>\n",
       "      <td>5047</td>\n",
       "    </tr>\n",
       "    <tr>\n",
       "      <th>3</th>\n",
       "      <td>4.1</td>\n",
       "      <td>787</td>\n",
       "      <td>800.0</td>\n",
       "      <td>1</td>\n",
       "      <td>0</td>\n",
       "      <td>113</td>\n",
       "      <td>1</td>\n",
       "      <td>19</td>\n",
       "      <td>5047</td>\n",
       "    </tr>\n",
       "    <tr>\n",
       "      <th>4</th>\n",
       "      <td>4.1</td>\n",
       "      <td>787</td>\n",
       "      <td>800.0</td>\n",
       "      <td>1</td>\n",
       "      <td>0</td>\n",
       "      <td>67</td>\n",
       "      <td>1</td>\n",
       "      <td>19</td>\n",
       "      <td>5047</td>\n",
       "    </tr>\n",
       "    <tr>\n",
       "      <th>...</th>\n",
       "      <td>...</td>\n",
       "      <td>...</td>\n",
       "      <td>...</td>\n",
       "      <td>...</td>\n",
       "      <td>...</td>\n",
       "      <td>...</td>\n",
       "      <td>...</td>\n",
       "      <td>...</td>\n",
       "      <td>...</td>\n",
       "    </tr>\n",
       "    <tr>\n",
       "      <th>47457</th>\n",
       "      <td>4.0</td>\n",
       "      <td>2856</td>\n",
       "      <td>1100.0</td>\n",
       "      <td>1</td>\n",
       "      <td>1</td>\n",
       "      <td>67</td>\n",
       "      <td>84</td>\n",
       "      <td>1</td>\n",
       "      <td>1908</td>\n",
       "    </tr>\n",
       "    <tr>\n",
       "      <th>47458</th>\n",
       "      <td>4.0</td>\n",
       "      <td>2856</td>\n",
       "      <td>1100.0</td>\n",
       "      <td>1</td>\n",
       "      <td>1</td>\n",
       "      <td>16</td>\n",
       "      <td>84</td>\n",
       "      <td>19</td>\n",
       "      <td>1908</td>\n",
       "    </tr>\n",
       "    <tr>\n",
       "      <th>47459</th>\n",
       "      <td>4.0</td>\n",
       "      <td>2856</td>\n",
       "      <td>1100.0</td>\n",
       "      <td>1</td>\n",
       "      <td>1</td>\n",
       "      <td>16</td>\n",
       "      <td>84</td>\n",
       "      <td>1</td>\n",
       "      <td>1908</td>\n",
       "    </tr>\n",
       "    <tr>\n",
       "      <th>47460</th>\n",
       "      <td>4.0</td>\n",
       "      <td>2856</td>\n",
       "      <td>1100.0</td>\n",
       "      <td>1</td>\n",
       "      <td>1</td>\n",
       "      <td>0</td>\n",
       "      <td>84</td>\n",
       "      <td>19</td>\n",
       "      <td>1908</td>\n",
       "    </tr>\n",
       "    <tr>\n",
       "      <th>47461</th>\n",
       "      <td>4.0</td>\n",
       "      <td>2856</td>\n",
       "      <td>1100.0</td>\n",
       "      <td>1</td>\n",
       "      <td>1</td>\n",
       "      <td>0</td>\n",
       "      <td>84</td>\n",
       "      <td>1</td>\n",
       "      <td>1908</td>\n",
       "    </tr>\n",
       "  </tbody>\n",
       "</table>\n",
       "<p>47462 rows × 9 columns</p>\n",
       "</div>"
      ],
      "text/plain": [
       "       rate  votes    cost  online_order  book_table  cuisines  location  \\\n",
       "0       4.1    775   800.0             1           1       150         1   \n",
       "1       4.1    775   800.0             1           1        63         1   \n",
       "2       4.1    775   800.0             1           1        25         1   \n",
       "3       4.1    787   800.0             1           0       113         1   \n",
       "4       4.1    787   800.0             1           0        67         1   \n",
       "...     ...    ...     ...           ...         ...       ...       ...   \n",
       "47457   4.0   2856  1100.0             1           1        67        84   \n",
       "47458   4.0   2856  1100.0             1           1        16        84   \n",
       "47459   4.0   2856  1100.0             1           1        16        84   \n",
       "47460   4.0   2856  1100.0             1           1         0        84   \n",
       "47461   4.0   2856  1100.0             1           1         0        84   \n",
       "\n",
       "       rest_type  menu_item  \n",
       "0             19       5047  \n",
       "1             19       5047  \n",
       "2             19       5047  \n",
       "3             19       5047  \n",
       "4             19       5047  \n",
       "...          ...        ...  \n",
       "47457          1       1908  \n",
       "47458         19       1908  \n",
       "47459          1       1908  \n",
       "47460         19       1908  \n",
       "47461          1       1908  \n",
       "\n",
       "[47462 rows x 9 columns]"
      ]
     },
     "execution_count": 231,
     "metadata": {},
     "output_type": "execute_result"
    }
   ],
   "source": [
    "# Drop 'Unnamed: 0'\n",
    "df_final = data_final.drop(['Unnamed: 0'], axis=1)\n",
    "\n",
    "# Observe final dataset.\n",
    "df_final"
   ]
  },
  {
   "cell_type": "code",
   "execution_count": 232,
   "id": "28f4a474",
   "metadata": {},
   "outputs": [],
   "source": [
    "# Create labels to classify ratings as bad(0) good(1): To use for Logistic Regression model:\n",
    "\n",
    "# Make empty list to fill in.\n",
    "labels = []\n",
    "\n",
    "# Make loop\n",
    "# Loops through each value in rate column.\n",
    "for i in df_final['rate']:\n",
    "    # Condition for positive review from 3.5 and above.\n",
    "    if i >= 3.5:\n",
    "        labels.append(1)\n",
    "    # Condition if below 3.5, then equal to negative review(0).\n",
    "    else:\n",
    "        labels.append(0)\n",
    "\n",
    "# Append new column to master dataframe 'df_final'.\n",
    "# (I will be using this column as my target variable for my Logistic Regression model.)\n",
    "df_final['rate_label'] = labels"
   ]
  },
  {
   "cell_type": "code",
   "execution_count": 233,
   "id": "4ba3ba36",
   "metadata": {},
   "outputs": [],
   "source": [
    "# THIS IS JUST ANOTHER CODE THAT I TRIED AND SAVED. PLEASE IGNORE, THANKS:\n",
    "# Check correlations: Checking which two variables move in coordination with one another.\n",
    "#plt.figure(figsize = (15,8))\n",
    "#sns.heatmap(df.corr(), annot=True, cmap=\"RdYlGn\", annot_kws={\"size\":15})"
   ]
  },
  {
   "cell_type": "code",
   "execution_count": 234,
   "id": "44ff851a",
   "metadata": {
    "scrolled": false
   },
   "outputs": [
    {
     "data": {
      "text/html": [
       "<div>\n",
       "<style scoped>\n",
       "    .dataframe tbody tr th:only-of-type {\n",
       "        vertical-align: middle;\n",
       "    }\n",
       "\n",
       "    .dataframe tbody tr th {\n",
       "        vertical-align: top;\n",
       "    }\n",
       "\n",
       "    .dataframe thead th {\n",
       "        text-align: right;\n",
       "    }\n",
       "</style>\n",
       "<table border=\"1\" class=\"dataframe\">\n",
       "  <thead>\n",
       "    <tr style=\"text-align: right;\">\n",
       "      <th></th>\n",
       "      <th>rate</th>\n",
       "      <th>votes</th>\n",
       "      <th>cost</th>\n",
       "      <th>online_order</th>\n",
       "      <th>book_table</th>\n",
       "      <th>cuisines</th>\n",
       "      <th>location</th>\n",
       "      <th>rest_type</th>\n",
       "      <th>menu_item</th>\n",
       "      <th>rate_label</th>\n",
       "    </tr>\n",
       "  </thead>\n",
       "  <tbody>\n",
       "    <tr>\n",
       "      <th>0</th>\n",
       "      <td>4.1</td>\n",
       "      <td>775</td>\n",
       "      <td>800.0</td>\n",
       "      <td>1</td>\n",
       "      <td>1</td>\n",
       "      <td>150</td>\n",
       "      <td>1</td>\n",
       "      <td>19</td>\n",
       "      <td>5047</td>\n",
       "      <td>1</td>\n",
       "    </tr>\n",
       "    <tr>\n",
       "      <th>1</th>\n",
       "      <td>4.1</td>\n",
       "      <td>775</td>\n",
       "      <td>800.0</td>\n",
       "      <td>1</td>\n",
       "      <td>1</td>\n",
       "      <td>63</td>\n",
       "      <td>1</td>\n",
       "      <td>19</td>\n",
       "      <td>5047</td>\n",
       "      <td>1</td>\n",
       "    </tr>\n",
       "    <tr>\n",
       "      <th>2</th>\n",
       "      <td>4.1</td>\n",
       "      <td>775</td>\n",
       "      <td>800.0</td>\n",
       "      <td>1</td>\n",
       "      <td>1</td>\n",
       "      <td>25</td>\n",
       "      <td>1</td>\n",
       "      <td>19</td>\n",
       "      <td>5047</td>\n",
       "      <td>1</td>\n",
       "    </tr>\n",
       "    <tr>\n",
       "      <th>3</th>\n",
       "      <td>4.1</td>\n",
       "      <td>787</td>\n",
       "      <td>800.0</td>\n",
       "      <td>1</td>\n",
       "      <td>0</td>\n",
       "      <td>113</td>\n",
       "      <td>1</td>\n",
       "      <td>19</td>\n",
       "      <td>5047</td>\n",
       "      <td>1</td>\n",
       "    </tr>\n",
       "    <tr>\n",
       "      <th>4</th>\n",
       "      <td>4.1</td>\n",
       "      <td>787</td>\n",
       "      <td>800.0</td>\n",
       "      <td>1</td>\n",
       "      <td>0</td>\n",
       "      <td>67</td>\n",
       "      <td>1</td>\n",
       "      <td>19</td>\n",
       "      <td>5047</td>\n",
       "      <td>1</td>\n",
       "    </tr>\n",
       "    <tr>\n",
       "      <th>...</th>\n",
       "      <td>...</td>\n",
       "      <td>...</td>\n",
       "      <td>...</td>\n",
       "      <td>...</td>\n",
       "      <td>...</td>\n",
       "      <td>...</td>\n",
       "      <td>...</td>\n",
       "      <td>...</td>\n",
       "      <td>...</td>\n",
       "      <td>...</td>\n",
       "    </tr>\n",
       "    <tr>\n",
       "      <th>47457</th>\n",
       "      <td>4.0</td>\n",
       "      <td>2856</td>\n",
       "      <td>1100.0</td>\n",
       "      <td>1</td>\n",
       "      <td>1</td>\n",
       "      <td>67</td>\n",
       "      <td>84</td>\n",
       "      <td>1</td>\n",
       "      <td>1908</td>\n",
       "      <td>1</td>\n",
       "    </tr>\n",
       "    <tr>\n",
       "      <th>47458</th>\n",
       "      <td>4.0</td>\n",
       "      <td>2856</td>\n",
       "      <td>1100.0</td>\n",
       "      <td>1</td>\n",
       "      <td>1</td>\n",
       "      <td>16</td>\n",
       "      <td>84</td>\n",
       "      <td>19</td>\n",
       "      <td>1908</td>\n",
       "      <td>1</td>\n",
       "    </tr>\n",
       "    <tr>\n",
       "      <th>47459</th>\n",
       "      <td>4.0</td>\n",
       "      <td>2856</td>\n",
       "      <td>1100.0</td>\n",
       "      <td>1</td>\n",
       "      <td>1</td>\n",
       "      <td>16</td>\n",
       "      <td>84</td>\n",
       "      <td>1</td>\n",
       "      <td>1908</td>\n",
       "      <td>1</td>\n",
       "    </tr>\n",
       "    <tr>\n",
       "      <th>47460</th>\n",
       "      <td>4.0</td>\n",
       "      <td>2856</td>\n",
       "      <td>1100.0</td>\n",
       "      <td>1</td>\n",
       "      <td>1</td>\n",
       "      <td>0</td>\n",
       "      <td>84</td>\n",
       "      <td>19</td>\n",
       "      <td>1908</td>\n",
       "      <td>1</td>\n",
       "    </tr>\n",
       "    <tr>\n",
       "      <th>47461</th>\n",
       "      <td>4.0</td>\n",
       "      <td>2856</td>\n",
       "      <td>1100.0</td>\n",
       "      <td>1</td>\n",
       "      <td>1</td>\n",
       "      <td>0</td>\n",
       "      <td>84</td>\n",
       "      <td>1</td>\n",
       "      <td>1908</td>\n",
       "      <td>1</td>\n",
       "    </tr>\n",
       "  </tbody>\n",
       "</table>\n",
       "<p>47462 rows × 10 columns</p>\n",
       "</div>"
      ],
      "text/plain": [
       "       rate  votes    cost  online_order  book_table  cuisines  location  \\\n",
       "0       4.1    775   800.0             1           1       150         1   \n",
       "1       4.1    775   800.0             1           1        63         1   \n",
       "2       4.1    775   800.0             1           1        25         1   \n",
       "3       4.1    787   800.0             1           0       113         1   \n",
       "4       4.1    787   800.0             1           0        67         1   \n",
       "...     ...    ...     ...           ...         ...       ...       ...   \n",
       "47457   4.0   2856  1100.0             1           1        67        84   \n",
       "47458   4.0   2856  1100.0             1           1        16        84   \n",
       "47459   4.0   2856  1100.0             1           1        16        84   \n",
       "47460   4.0   2856  1100.0             1           1         0        84   \n",
       "47461   4.0   2856  1100.0             1           1         0        84   \n",
       "\n",
       "       rest_type  menu_item  rate_label  \n",
       "0             19       5047           1  \n",
       "1             19       5047           1  \n",
       "2             19       5047           1  \n",
       "3             19       5047           1  \n",
       "4             19       5047           1  \n",
       "...          ...        ...         ...  \n",
       "47457          1       1908           1  \n",
       "47458         19       1908           1  \n",
       "47459          1       1908           1  \n",
       "47460         19       1908           1  \n",
       "47461          1       1908           1  \n",
       "\n",
       "[47462 rows x 10 columns]"
      ]
     },
     "execution_count": 234,
     "metadata": {},
     "output_type": "execute_result"
    }
   ],
   "source": [
    "# Observ final dataset:\n",
    "df_final"
   ]
  },
  {
   "cell_type": "code",
   "execution_count": 235,
   "id": "46932098",
   "metadata": {},
   "outputs": [],
   "source": [
    "# Encode the columns containing string types into some sort of code:\n",
    "def Encode(df_final):\n",
    "    for column in df_final.columns[~df_final.columns.isin(['rating', 'cost', 'votes'])]:\n",
    "        df_final[column] = df_final[column].factorize()[0]\n",
    "    return df_final\n",
    "\n",
    "df_finalEncode = Encode(df_final.copy())"
   ]
  },
  {
   "cell_type": "code",
   "execution_count": 236,
   "id": "7eaf351e",
   "metadata": {},
   "outputs": [
    {
     "data": {
      "text/plain": [
       "<AxesSubplot:>"
      ]
     },
     "execution_count": 236,
     "metadata": {},
     "output_type": "execute_result"
    },
    {
     "data": {
      "image/png": "[encoded data removed]",
      "text/plain": [
       "<Figure size 1080x576 with 2 Axes>"
      ]
     },
     "metadata": {
      "needs_background": "light"
     },
     "output_type": "display_data"
    }
   ],
   "source": [
    "#Get Correlation between different variables\n",
    "corr = df_finalEncode.corr(method='kendall')\n",
    "plt.figure(figsize=(15,8))\n",
    "sns.heatmap(corr, annot=True)"
   ]
  },
  {
   "cell_type": "code",
   "execution_count": 237,
   "id": "e37e0bec",
   "metadata": {
    "scrolled": false
   },
   "outputs": [
    {
     "name": "stdout",
     "output_type": "stream",
     "text": [
      "Correlation Matrix\n",
      "                  rate     votes      cost  online_order  book_table  \\\n",
      "rate          1.000000  0.276095  0.141871      0.104398   -0.112861   \n",
      "votes         0.276095  1.000000  0.344842      0.134162   -0.315686   \n",
      "cost          0.141871  0.344842  1.000000      0.356637   -0.634673   \n",
      "online_order  0.104398  0.134162  0.356637      1.000000   -0.198458   \n",
      "book_table   -0.112861 -0.315686 -0.634673     -0.198458    1.000000   \n",
      "cuisines      0.009935  0.036604  0.112063      0.052808   -0.058365   \n",
      "location     -0.008737 -0.041080  0.021025      0.027554    0.007099   \n",
      "rest_type     0.045354  0.086111  0.276070      0.195105   -0.102142   \n",
      "menu_item    -0.044699 -0.058872 -0.163300     -0.358613    0.108683   \n",
      "rate_label    0.438266 -0.141365 -0.177092     -0.044041    0.199104   \n",
      "\n",
      "              cuisines  location  rest_type  menu_item  rate_label  \n",
      "rate          0.009935 -0.008737   0.045354  -0.044699    0.438266  \n",
      "votes         0.036604 -0.041080   0.086111  -0.058872   -0.141365  \n",
      "cost          0.112063  0.021025   0.276070  -0.163300   -0.177092  \n",
      "online_order  0.052808  0.027554   0.195105  -0.358613   -0.044041  \n",
      "book_table   -0.058365  0.007099  -0.102142   0.108683    0.199104  \n",
      "cuisines      1.000000  0.018106   0.114020  -0.007767   -0.060136  \n",
      "location      0.018106  1.000000   0.024883   0.080721    0.020898  \n",
      "rest_type     0.114020  0.024883   1.000000  -0.048344   -0.052821  \n",
      "menu_item    -0.007767  0.080721  -0.048344   1.000000    0.001459  \n",
      "rate_label   -0.060136  0.020898  -0.052821   0.001459    1.000000  \n",
      "\n",
      "Top Absolute Correlations\n",
      "cost          book_table      0.634673\n",
      "rate          rate_label      0.438266\n",
      "online_order  menu_item       0.358613\n",
      "cost          online_order    0.356637\n",
      "votes         cost            0.344842\n",
      "              book_table      0.315686\n",
      "rate          votes           0.276095\n",
      "cost          rest_type       0.276070\n",
      "book_table    rate_label      0.199104\n",
      "online_order  book_table      0.198458\n",
      "dtype: float64\n"
     ]
    }
   ],
   "source": [
    "# List Highest Correlation Pairs from a Dataset:\n",
    "print(\"Correlation Matrix\")\n",
    "print(df_finalEncode.corr())\n",
    "print()\n",
    "\n",
    "def get_redundant_pairs(df_finalEncode):\n",
    "    '''Get diagonal and lower triangular pairs of correlation matrix'''\n",
    "    pairs_to_drop = set()\n",
    "    cols = df_finalEncode.columns\n",
    "    for i in range(0, df_finalEncode.shape[1]):\n",
    "        for j in range(0, i+1):\n",
    "            pairs_to_drop.add((cols[i], cols[j]))\n",
    "    return pairs_to_drop\n",
    "\n",
    "def get_top_abs_correlations(df, n=5):\n",
    "    au_corr = df_finalEncode.corr().abs().unstack()\n",
    "    labels_to_drop = get_redundant_pairs(df_finalEncode)\n",
    "    au_corr = au_corr.drop(labels=labels_to_drop).sort_values(ascending=False)\n",
    "    return au_corr[0:n]\n",
    "\n",
    "print(\"Top Absolute Correlations\")\n",
    "print(get_top_abs_correlations(df_finalEncode, 10))"
   ]
  },
  {
   "cell_type": "code",
   "execution_count": 239,
   "id": "69c934e0",
   "metadata": {
    "scrolled": false
   },
   "outputs": [
    {
     "name": "stdout",
     "output_type": "stream",
     "text": [
      "corrwith result:\n",
      "votes          -0.040385\n",
      "cost            0.005791\n",
      "online_order    0.010217\n",
      "book_table      0.009263\n",
      "cuisines       -0.002717\n",
      "location        0.120070\n",
      "rest_type       0.006614\n",
      "menu_item       0.069411\n",
      "rate_label      0.009100\n",
      "dtype: float64\n",
      "-------------------------\n",
      "corr result:\n"
     ]
    },
    {
     "data": {
      "text/plain": [
       "rate            1.000000\n",
       "votes           0.276095\n",
       "cost            0.141871\n",
       "online_order    0.104398\n",
       "book_table     -0.112861\n",
       "cuisines        0.009935\n",
       "location       -0.008737\n",
       "rest_type       0.045354\n",
       "menu_item      -0.044699\n",
       "rate_label      0.438266\n",
       "Name: rate, dtype: float64"
      ]
     },
     "execution_count": 239,
     "metadata": {},
     "output_type": "execute_result"
    }
   ],
   "source": [
    "# Observe and check the correlation between features and target variable('rate'):\n",
    "ratecorr = df_finalEncode.drop(columns=['rate']).corrwith(df['rate'])\n",
    "print('corrwith result:')\n",
    "print(ratecorr)\n",
    "print('-----' * 5)\n",
    "print('corr result:')\n",
    "df_finalEncode.corr().rate\n",
    "# This has two different results. As advised, use result from function df.corr()."
   ]
  },
  {
   "cell_type": "markdown",
   "id": "b7724347",
   "metadata": {},
   "source": [
    "## SPLIT DATASET:"
   ]
  },
  {
   "cell_type": "code",
   "execution_count": 240,
   "id": "2b8bc444",
   "metadata": {},
   "outputs": [
    {
     "data": {
      "text/plain": [
       "Index(['rate', 'votes', 'cost', 'online_order', 'book_table', 'cuisines',\n",
       "       'location', 'rest_type', 'menu_item', 'rate_label'],\n",
       "      dtype='object')"
      ]
     },
     "execution_count": 240,
     "metadata": {},
     "output_type": "execute_result"
    }
   ],
   "source": [
    "# Check columns 'df_final' dataset:\n",
    "df_finalEncode.columns"
   ]
  },
  {
   "cell_type": "code",
   "execution_count": 260,
   "id": "48b01536",
   "metadata": {
    "scrolled": false
   },
   "outputs": [],
   "source": [
    "# Set up indpedendent(predictors) variables and target variable:\n",
    "# Set up X and y variable:\n",
    "\n",
    "# Indepedendent(predictors) variables.\n",
    "# X = df_finalEncode[['online_order','book_table','votes','location','rest_type','cuisines','cost','menu_item']] # long code.\n",
    "# X = df_finalEncode.loc[:, df_finalEncode.columns != 'rate']\n",
    "X = df_finalEncode[df_finalEncode.columns[~df_finalEncode.columns.isin(['rate','rate_label'])]]\n",
    "\n",
    "# Target variable: \n",
    "y = df_finalEncode['rate']"
   ]
  },
  {
   "cell_type": "code",
   "execution_count": 262,
   "id": "19e98d75",
   "metadata": {},
   "outputs": [
    {
     "data": {
      "text/html": [
       "<div>\n",
       "<style scoped>\n",
       "    .dataframe tbody tr th:only-of-type {\n",
       "        vertical-align: middle;\n",
       "    }\n",
       "\n",
       "    .dataframe tbody tr th {\n",
       "        vertical-align: top;\n",
       "    }\n",
       "\n",
       "    .dataframe thead th {\n",
       "        text-align: right;\n",
       "    }\n",
       "</style>\n",
       "<table border=\"1\" class=\"dataframe\">\n",
       "  <thead>\n",
       "    <tr style=\"text-align: right;\">\n",
       "      <th></th>\n",
       "      <th>votes</th>\n",
       "      <th>cost</th>\n",
       "      <th>online_order</th>\n",
       "      <th>book_table</th>\n",
       "      <th>cuisines</th>\n",
       "      <th>location</th>\n",
       "      <th>rest_type</th>\n",
       "      <th>menu_item</th>\n",
       "    </tr>\n",
       "  </thead>\n",
       "  <tbody>\n",
       "    <tr>\n",
       "      <th>0</th>\n",
       "      <td>775</td>\n",
       "      <td>800.0</td>\n",
       "      <td>0</td>\n",
       "      <td>0</td>\n",
       "      <td>0</td>\n",
       "      <td>0</td>\n",
       "      <td>0</td>\n",
       "      <td>0</td>\n",
       "    </tr>\n",
       "    <tr>\n",
       "      <th>1</th>\n",
       "      <td>775</td>\n",
       "      <td>800.0</td>\n",
       "      <td>0</td>\n",
       "      <td>0</td>\n",
       "      <td>1</td>\n",
       "      <td>0</td>\n",
       "      <td>0</td>\n",
       "      <td>0</td>\n",
       "    </tr>\n",
       "    <tr>\n",
       "      <th>2</th>\n",
       "      <td>775</td>\n",
       "      <td>800.0</td>\n",
       "      <td>0</td>\n",
       "      <td>0</td>\n",
       "      <td>2</td>\n",
       "      <td>0</td>\n",
       "      <td>0</td>\n",
       "      <td>0</td>\n",
       "    </tr>\n",
       "    <tr>\n",
       "      <th>3</th>\n",
       "      <td>787</td>\n",
       "      <td>800.0</td>\n",
       "      <td>0</td>\n",
       "      <td>1</td>\n",
       "      <td>3</td>\n",
       "      <td>0</td>\n",
       "      <td>0</td>\n",
       "      <td>0</td>\n",
       "    </tr>\n",
       "    <tr>\n",
       "      <th>4</th>\n",
       "      <td>787</td>\n",
       "      <td>800.0</td>\n",
       "      <td>0</td>\n",
       "      <td>1</td>\n",
       "      <td>4</td>\n",
       "      <td>0</td>\n",
       "      <td>0</td>\n",
       "      <td>0</td>\n",
       "    </tr>\n",
       "  </tbody>\n",
       "</table>\n",
       "</div>"
      ],
      "text/plain": [
       "   votes   cost  online_order  book_table  cuisines  location  rest_type  \\\n",
       "0    775  800.0             0           0         0         0          0   \n",
       "1    775  800.0             0           0         1         0          0   \n",
       "2    775  800.0             0           0         2         0          0   \n",
       "3    787  800.0             0           1         3         0          0   \n",
       "4    787  800.0             0           1         4         0          0   \n",
       "\n",
       "   menu_item  \n",
       "0          0  \n",
       "1          0  \n",
       "2          0  \n",
       "3          0  \n",
       "4          0  "
      ]
     },
     "execution_count": 262,
     "metadata": {},
     "output_type": "execute_result"
    }
   ],
   "source": [
    "X.head()"
   ]
  },
  {
   "cell_type": "markdown",
   "id": "2563201a",
   "metadata": {},
   "source": [
    "SPLIT THE DATA INTO TRAINING SET AND TEST SET:"
   ]
  },
  {
   "cell_type": "code",
   "execution_count": 263,
   "id": "0bcbda4b",
   "metadata": {},
   "outputs": [
    {
     "data": {
      "text/plain": [
       "((37969, 8), (37969,))"
      ]
     },
     "execution_count": 263,
     "metadata": {},
     "output_type": "execute_result"
    }
   ],
   "source": [
    "# Split data into 80 / 20 train and test sets with random state of 353:\n",
    "X_train,X_test,y_train,y_test=train_test_split(X,y,test_size=.2,random_state=353)\n",
    "X_train.shape, y_train.shape"
   ]
  },
  {
   "cell_type": "markdown",
   "id": "33682249",
   "metadata": {},
   "source": [
    "***"
   ]
  },
  {
   "cell_type": "markdown",
   "id": "4874a2ba",
   "metadata": {},
   "source": [
    "# CREATE MODELS: RANDOM FOREST, LINEAR REGRESSION, EXTRA TREE REGRESSION, DECISION TREE:"
   ]
  },
  {
   "cell_type": "markdown",
   "id": "f57f4b53",
   "metadata": {},
   "source": [
    "APPLY RANDOM FOREST ALGORITHM:"
   ]
  },
  {
   "cell_type": "code",
   "execution_count": 281,
   "id": "8895dad7",
   "metadata": {
    "scrolled": false
   },
   "outputs": [
    {
     "data": {
      "text/plain": [
       "RandomForestRegressor(min_samples_leaf=1e-05, n_estimators=200, random_state=50)"
      ]
     },
     "execution_count": 281,
     "metadata": {},
     "output_type": "execute_result"
    }
   ],
   "source": [
    "# Create model: Random Forest\n",
    "RandomF_model=RandomForestRegressor(n_estimators=200,random_state=50,min_samples_leaf=.00001)\n",
    "\n",
    "# Fit model:\n",
    "RandomF_model.fit(X_train,y_train)"
   ]
  },
  {
   "cell_type": "code",
   "execution_count": 282,
   "id": "e20e1020",
   "metadata": {},
   "outputs": [
    {
     "name": "stdout",
     "output_type": "stream",
     "text": [
      "Random Forest model R-Square Score:  91.9835759054004\n"
     ]
    },
    {
     "data": {
      "text/plain": [
       "0.9198357590540039"
      ]
     },
     "execution_count": 282,
     "metadata": {},
     "output_type": "execute_result"
    }
   ],
   "source": [
    "# Predict target using X-test:\n",
    "y_predictRF=RandomF_model.predict(X_test)\n",
    "\n",
    "# Calculate r2 score:\n",
    "# code: r2_score(y_test,y_predictRF)\n",
    "print('Random Forest model R-Square Score: ',(r2_score(y_test,y_predictRF))*100)\n",
    "r2_score(y_test,y_predictRF)"
   ]
  },
  {
   "cell_type": "code",
   "execution_count": 288,
   "id": "6fe736ad",
   "metadata": {},
   "outputs": [
    {
     "name": "stdout",
     "output_type": "stream",
     "text": [
      "Mean Absolute Error Random Forest model: 6.95\n",
      "----------------------------------------------------------------------------------------------------\n",
      "Mean absolute percentage error (MAPE): 6441       1.70\n",
      "43753      0.00\n",
      "2539     135.05\n",
      "38352      2.00\n",
      "39103      0.00\n",
      "          ...  \n",
      "8401       5.20\n",
      "12494      0.00\n",
      "30795       NaN\n",
      "3417      14.90\n",
      "35282      0.50\n",
      "Name: rate, Length: 9493, dtype: float64\n"
     ]
    }
   ],
   "source": [
    "# Calculate other metrics:\n",
    "# Calculate the absolute errors\n",
    "rf_errors = abs(y_predictRF - y_test)\n",
    "\n",
    "# Print out the mean absolute error (MAE)\n",
    "print('Mean Absolute Error Random Forest model:', round(np.mean(y_predictRF), 2))\n",
    "\n",
    "print('-----' * 20)\n",
    "\n",
    "# Calculate mean absolute percentage error (MAPE)\n",
    "mape = 100 * (rf_errors / y_test)\n",
    "print('Mean absolute percentage error (MAPE):',mape)"
   ]
  },
  {
   "cell_type": "markdown",
   "id": "d1747138",
   "metadata": {},
   "source": [
    "***"
   ]
  },
  {
   "cell_type": "markdown",
   "id": "a530ab45",
   "metadata": {},
   "source": [
    "APPLY LINEAR REGRESSION ALGORITHM:"
   ]
  },
  {
   "cell_type": "code",
   "execution_count": 270,
   "id": "3733ad92",
   "metadata": {},
   "outputs": [
    {
     "data": {
      "text/plain": [
       "LinearRegression()"
      ]
     },
     "execution_count": 270,
     "metadata": {},
     "output_type": "execute_result"
    }
   ],
   "source": [
    "# Create model: Linear Regression\n",
    "linreg_model=LinearRegression()\n",
    "\n",
    "#Fit model:\n",
    "linreg_model.fit(X_train,y_train)"
   ]
  },
  {
   "cell_type": "code",
   "execution_count": 337,
   "id": "9fe915ed",
   "metadata": {},
   "outputs": [
    {
     "name": "stdout",
     "output_type": "stream",
     "text": [
      "Linear Regression model R-Square Score:  9.530213696891431\n"
     ]
    },
    {
     "data": {
      "text/plain": [
       "0.09530213696891432"
      ]
     },
     "execution_count": 337,
     "metadata": {},
     "output_type": "execute_result"
    }
   ],
   "source": [
    "# Predict target using X-test:\n",
    "y_pred=linreg_model.predict(X_test)\n",
    "\n",
    "# Calculate r2 score:\n",
    "# code: r2_score(y_test,y_pred)\n",
    "print('Linear Regression model R-Square Score: ',(r2_score(y_test,y_pred))*100)\n",
    "r2_score(y_test,y_pred)"
   ]
  },
  {
   "cell_type": "code",
   "execution_count": 292,
   "id": "1f71cd8a",
   "metadata": {},
   "outputs": [
    {
     "name": "stdout",
     "output_type": "stream",
     "text": [
      "Mean Absolute Error for Linear Regression: 6.92\n",
      "----------------------------------------------------------------------------------------------------\n",
      "Mean Squared Error (MSE) for Linear Regression : 31.951849429174985\n"
     ]
    }
   ],
   "source": [
    "# Calculate other metrics:\n",
    "# Calculate absolute error:\n",
    "linreg_errors = abs(y_pred - y_test)\n",
    "\n",
    "# Print out the mean absolute error (MAE)\n",
    "print('Mean Absolute Error for Linear Regression:', round(np.mean(y_pred), 2))\n",
    "\n",
    "print('-----' * 20)\n",
    "\n",
    "# Calculate calculate Mean Squared Error (MSE):\n",
    "mse = mean_squared_error(y_test, y_pred)\n",
    "print('Mean Squared Error (MSE) for Linear Regression :', mse)"
   ]
  },
  {
   "cell_type": "markdown",
   "id": "087c1f6c",
   "metadata": {},
   "source": [
    "***"
   ]
  },
  {
   "cell_type": "markdown",
   "id": "fe5b95da",
   "metadata": {},
   "source": [
    "APPLY EXTRA TREE REGRESSION ALGORITHM:"
   ]
  },
  {
   "cell_type": "code",
   "execution_count": 264,
   "id": "a004cf31",
   "metadata": {},
   "outputs": [
    {
     "data": {
      "text/plain": [
       "ExtraTreesRegressor(n_estimators=200)"
      ]
     },
     "execution_count": 264,
     "metadata": {},
     "output_type": "execute_result"
    }
   ],
   "source": [
    "# Create model: Extra Tree Regression\n",
    "xtreg_model=ExtraTreesRegressor(n_estimators = 200)\n",
    "\n",
    "# Fit model:\n",
    "xtreg_model.fit(X_train,y_train)"
   ]
  },
  {
   "cell_type": "code",
   "execution_count": 265,
   "id": "42c758eb",
   "metadata": {},
   "outputs": [
    {
     "name": "stdout",
     "output_type": "stream",
     "text": [
      "Extra Tree Regression model R-Square Score:  92.60525272687697\n"
     ]
    },
    {
     "data": {
      "text/plain": [
       "0.9260525272687696"
      ]
     },
     "execution_count": 265,
     "metadata": {},
     "output_type": "execute_result"
    }
   ],
   "source": [
    "# Predict target using X-test:\n",
    "y_predictXT=xtreg_model.predict(X_test)\n",
    "\n",
    "# Calculate r2 score:\n",
    "# code:: r2_score(y_test,y_predictXT)\n",
    "print('Extra Tree Regression model R-Square Score: ',(r2_score(y_test,y_predictXT))*100)\n",
    "r2_score(y_test,y_predictXT)"
   ]
  },
  {
   "cell_type": "code",
   "execution_count": 290,
   "id": "f559e1bf",
   "metadata": {
    "scrolled": true
   },
   "outputs": [
    {
     "name": "stdout",
     "output_type": "stream",
     "text": [
      "Mean cross-validation score: 0.91\n"
     ]
    }
   ],
   "source": [
    "# Calculate other metrics:\n",
    "#Apply a cross-validation training method to the model and check the accuracy:\n",
    "cv_scores = cross_val_score(xtreg_model, X_train,y_train,cv=10)\n",
    "print(\"Mean cross-validation score: %.2f\" % cv_scores.mean())"
   ]
  },
  {
   "cell_type": "markdown",
   "id": "c3b173c3",
   "metadata": {},
   "source": [
    "***"
   ]
  },
  {
   "cell_type": "markdown",
   "id": "8c229b18",
   "metadata": {},
   "source": [
    "APPLY DECISION TREE ALGORITHM:"
   ]
  },
  {
   "cell_type": "code",
   "execution_count": 278,
   "id": "06408a0f",
   "metadata": {},
   "outputs": [
    {
     "data": {
      "text/plain": [
       "DecisionTreeRegressor(min_samples_leaf=1e-05)"
      ]
     },
     "execution_count": 278,
     "metadata": {},
     "output_type": "execute_result"
    }
   ],
   "source": [
    "# # Create model: Decision Tree Regression\n",
    "dtree_model=DecisionTreeRegressor(min_samples_leaf=.00001)\n",
    "# Fit model:\n",
    "dtree_model.fit(X_train,y_train)"
   ]
  },
  {
   "cell_type": "code",
   "execution_count": 280,
   "id": "1eb46dde",
   "metadata": {
    "scrolled": true
   },
   "outputs": [
    {
     "name": "stdout",
     "output_type": "stream",
     "text": [
      "Decision Tree Regression model R-Square Score:  88.19298221308497\n"
     ]
    },
    {
     "data": {
      "text/plain": [
       "0.8819298221308497"
      ]
     },
     "execution_count": 280,
     "metadata": {},
     "output_type": "execute_result"
    }
   ],
   "source": [
    "# Predict target using X-test:\n",
    "y_predictDT=dtree_model.predict(X_test)\n",
    "\n",
    "# Calculate r2 score:\n",
    "print('Decision Tree Regression model R-Square Score: ',(r2_score(y_test,y_predictDT))*100)\n",
    "r2_score(y_test,y_predictDT)"
   ]
  },
  {
   "cell_type": "markdown",
   "id": "6c31328f",
   "metadata": {},
   "source": [
    "***"
   ]
  },
  {
   "cell_type": "markdown",
   "id": "e54692cf",
   "metadata": {},
   "source": [
    "# CREATE LOGISTIC REGRESSION  MODEL: <BR>\n",
    "Use Logistic Regression model to create a prediction of classification, of whether a rating for a restaurant is bad(0) or good(1)."
   ]
  },
  {
   "cell_type": "markdown",
   "id": "10cde0a8",
   "metadata": {},
   "source": [
    "APPLY LOGISTIC REGRESSION REGRESSION ALGORITHM:"
   ]
  },
  {
   "cell_type": "code",
   "execution_count": 311,
   "id": "83f5b460",
   "metadata": {
    "scrolled": true
   },
   "outputs": [
    {
     "data": {
      "text/html": [
       "<div>\n",
       "<style scoped>\n",
       "    .dataframe tbody tr th:only-of-type {\n",
       "        vertical-align: middle;\n",
       "    }\n",
       "\n",
       "    .dataframe tbody tr th {\n",
       "        vertical-align: top;\n",
       "    }\n",
       "\n",
       "    .dataframe thead th {\n",
       "        text-align: right;\n",
       "    }\n",
       "</style>\n",
       "<table border=\"1\" class=\"dataframe\">\n",
       "  <thead>\n",
       "    <tr style=\"text-align: right;\">\n",
       "      <th></th>\n",
       "      <th>rate</th>\n",
       "      <th>votes</th>\n",
       "      <th>cost</th>\n",
       "      <th>online_order</th>\n",
       "      <th>book_table</th>\n",
       "      <th>cuisines</th>\n",
       "      <th>location</th>\n",
       "      <th>rest_type</th>\n",
       "      <th>menu_item</th>\n",
       "      <th>rate_label</th>\n",
       "    </tr>\n",
       "  </thead>\n",
       "  <tbody>\n",
       "    <tr>\n",
       "      <th>0</th>\n",
       "      <td>4.1</td>\n",
       "      <td>775</td>\n",
       "      <td>800.0</td>\n",
       "      <td>1</td>\n",
       "      <td>1</td>\n",
       "      <td>150</td>\n",
       "      <td>1</td>\n",
       "      <td>19</td>\n",
       "      <td>5047</td>\n",
       "      <td>1</td>\n",
       "    </tr>\n",
       "    <tr>\n",
       "      <th>1</th>\n",
       "      <td>4.1</td>\n",
       "      <td>775</td>\n",
       "      <td>800.0</td>\n",
       "      <td>1</td>\n",
       "      <td>1</td>\n",
       "      <td>63</td>\n",
       "      <td>1</td>\n",
       "      <td>19</td>\n",
       "      <td>5047</td>\n",
       "      <td>1</td>\n",
       "    </tr>\n",
       "    <tr>\n",
       "      <th>2</th>\n",
       "      <td>4.1</td>\n",
       "      <td>775</td>\n",
       "      <td>800.0</td>\n",
       "      <td>1</td>\n",
       "      <td>1</td>\n",
       "      <td>25</td>\n",
       "      <td>1</td>\n",
       "      <td>19</td>\n",
       "      <td>5047</td>\n",
       "      <td>1</td>\n",
       "    </tr>\n",
       "    <tr>\n",
       "      <th>3</th>\n",
       "      <td>4.1</td>\n",
       "      <td>787</td>\n",
       "      <td>800.0</td>\n",
       "      <td>1</td>\n",
       "      <td>0</td>\n",
       "      <td>113</td>\n",
       "      <td>1</td>\n",
       "      <td>19</td>\n",
       "      <td>5047</td>\n",
       "      <td>1</td>\n",
       "    </tr>\n",
       "    <tr>\n",
       "      <th>4</th>\n",
       "      <td>4.1</td>\n",
       "      <td>787</td>\n",
       "      <td>800.0</td>\n",
       "      <td>1</td>\n",
       "      <td>0</td>\n",
       "      <td>67</td>\n",
       "      <td>1</td>\n",
       "      <td>19</td>\n",
       "      <td>5047</td>\n",
       "      <td>1</td>\n",
       "    </tr>\n",
       "  </tbody>\n",
       "</table>\n",
       "</div>"
      ],
      "text/plain": [
       "   rate  votes   cost  online_order  book_table  cuisines  location  \\\n",
       "0   4.1    775  800.0             1           1       150         1   \n",
       "1   4.1    775  800.0             1           1        63         1   \n",
       "2   4.1    775  800.0             1           1        25         1   \n",
       "3   4.1    787  800.0             1           0       113         1   \n",
       "4   4.1    787  800.0             1           0        67         1   \n",
       "\n",
       "   rest_type  menu_item  rate_label  \n",
       "0         19       5047           1  \n",
       "1         19       5047           1  \n",
       "2         19       5047           1  \n",
       "3         19       5047           1  \n",
       "4         19       5047           1  "
      ]
     },
     "execution_count": 311,
     "metadata": {},
     "output_type": "execute_result"
    }
   ],
   "source": [
    "# Check dataframe to use:\n",
    "df_final.head()"
   ]
  },
  {
   "cell_type": "code",
   "execution_count": 317,
   "id": "b8347c47",
   "metadata": {
    "scrolled": true
   },
   "outputs": [],
   "source": [
    "# Set up indpedendent(predictors) variables and target variable for Logistic Regression:\n",
    "# Set up X1 and y1 variable:\n",
    "#X1 = df_final[['online_order', 'rate', 'book_table', 'votes', 'location', 'rest_type','cost',\n",
    "#               'menu_item','cusine']] # Indepedendent(predictors) variables.\n",
    "X1 = df_finalEncode[df_finalEncode.columns[~df_finalEncode.columns.isin(['rate_label'])]]\n",
    "y1 = df_final['rate_label']"
   ]
  },
  {
   "cell_type": "code",
   "execution_count": 318,
   "id": "1d2f37b2",
   "metadata": {},
   "outputs": [
    {
     "data": {
      "text/html": [
       "<div>\n",
       "<style scoped>\n",
       "    .dataframe tbody tr th:only-of-type {\n",
       "        vertical-align: middle;\n",
       "    }\n",
       "\n",
       "    .dataframe tbody tr th {\n",
       "        vertical-align: top;\n",
       "    }\n",
       "\n",
       "    .dataframe thead th {\n",
       "        text-align: right;\n",
       "    }\n",
       "</style>\n",
       "<table border=\"1\" class=\"dataframe\">\n",
       "  <thead>\n",
       "    <tr style=\"text-align: right;\">\n",
       "      <th></th>\n",
       "      <th>rate</th>\n",
       "      <th>votes</th>\n",
       "      <th>cost</th>\n",
       "      <th>online_order</th>\n",
       "      <th>book_table</th>\n",
       "      <th>cuisines</th>\n",
       "      <th>location</th>\n",
       "      <th>rest_type</th>\n",
       "      <th>menu_item</th>\n",
       "    </tr>\n",
       "  </thead>\n",
       "  <tbody>\n",
       "    <tr>\n",
       "      <th>0</th>\n",
       "      <td>0</td>\n",
       "      <td>775</td>\n",
       "      <td>800.0</td>\n",
       "      <td>0</td>\n",
       "      <td>0</td>\n",
       "      <td>0</td>\n",
       "      <td>0</td>\n",
       "      <td>0</td>\n",
       "      <td>0</td>\n",
       "    </tr>\n",
       "    <tr>\n",
       "      <th>1</th>\n",
       "      <td>0</td>\n",
       "      <td>775</td>\n",
       "      <td>800.0</td>\n",
       "      <td>0</td>\n",
       "      <td>0</td>\n",
       "      <td>1</td>\n",
       "      <td>0</td>\n",
       "      <td>0</td>\n",
       "      <td>0</td>\n",
       "    </tr>\n",
       "    <tr>\n",
       "      <th>2</th>\n",
       "      <td>0</td>\n",
       "      <td>775</td>\n",
       "      <td>800.0</td>\n",
       "      <td>0</td>\n",
       "      <td>0</td>\n",
       "      <td>2</td>\n",
       "      <td>0</td>\n",
       "      <td>0</td>\n",
       "      <td>0</td>\n",
       "    </tr>\n",
       "    <tr>\n",
       "      <th>3</th>\n",
       "      <td>0</td>\n",
       "      <td>787</td>\n",
       "      <td>800.0</td>\n",
       "      <td>0</td>\n",
       "      <td>1</td>\n",
       "      <td>3</td>\n",
       "      <td>0</td>\n",
       "      <td>0</td>\n",
       "      <td>0</td>\n",
       "    </tr>\n",
       "    <tr>\n",
       "      <th>4</th>\n",
       "      <td>0</td>\n",
       "      <td>787</td>\n",
       "      <td>800.0</td>\n",
       "      <td>0</td>\n",
       "      <td>1</td>\n",
       "      <td>4</td>\n",
       "      <td>0</td>\n",
       "      <td>0</td>\n",
       "      <td>0</td>\n",
       "    </tr>\n",
       "  </tbody>\n",
       "</table>\n",
       "</div>"
      ],
      "text/plain": [
       "   rate  votes   cost  online_order  book_table  cuisines  location  \\\n",
       "0     0    775  800.0             0           0         0         0   \n",
       "1     0    775  800.0             0           0         1         0   \n",
       "2     0    775  800.0             0           0         2         0   \n",
       "3     0    787  800.0             0           1         3         0   \n",
       "4     0    787  800.0             0           1         4         0   \n",
       "\n",
       "   rest_type  menu_item  \n",
       "0          0          0  \n",
       "1          0          0  \n",
       "2          0          0  \n",
       "3          0          0  \n",
       "4          0          0  "
      ]
     },
     "execution_count": 318,
     "metadata": {},
     "output_type": "execute_result"
    }
   ],
   "source": [
    "X1.head()"
   ]
  },
  {
   "cell_type": "code",
   "execution_count": 319,
   "id": "4f9d9f8c",
   "metadata": {},
   "outputs": [],
   "source": [
    "# Split data into 80 /20 train and test sets with random state of 43:\n",
    "X1_train,X1_test,y1_train,y1_test=train_test_split(X1,y1,test_size=.2,random_state=43)"
   ]
  },
  {
   "cell_type": "code",
   "execution_count": 320,
   "id": "685f39fd",
   "metadata": {
    "scrolled": false
   },
   "outputs": [
    {
     "data": {
      "text/plain": [
       "LogisticRegression()"
      ]
     },
     "execution_count": 320,
     "metadata": {},
     "output_type": "execute_result"
    }
   ],
   "source": [
    "# Create model: Logistic Regression\n",
    "logreg_model=LogisticRegression()\n",
    "\n",
    "#Fit model:\n",
    "logreg_model.fit(X1_train,y1_train)"
   ]
  },
  {
   "cell_type": "code",
   "execution_count": 329,
   "id": "00c519c3",
   "metadata": {},
   "outputs": [
    {
     "name": "stdout",
     "output_type": "stream",
     "text": [
      "Predicted result from LogisticRegression: [1 1 1 1 1 1 1 1 1]\n"
     ]
    }
   ],
   "source": [
    "# Predict test data:\n",
    "y1_predictLG = logreg_model.predict(X1_test)\n",
    "print('Predicted result from LogisticRegression:',y1_predictLG[1:10])"
   ]
  },
  {
   "cell_type": "code",
   "execution_count": 334,
   "id": "6991c52d",
   "metadata": {},
   "outputs": [
    {
     "data": {
      "text/plain": [
       "0.27462876256788304"
      ]
     },
     "execution_count": 334,
     "metadata": {},
     "output_type": "execute_result"
    }
   ],
   "source": [
    "# R2 score:\n",
    "r2_score(y1_test,y1_predictLG)"
   ]
  },
  {
   "cell_type": "code",
   "execution_count": 332,
   "id": "633cc01a",
   "metadata": {},
   "outputs": [
    {
     "data": {
      "text/plain": [
       "0.9380596228800169"
      ]
     },
     "execution_count": 332,
     "metadata": {},
     "output_type": "execute_result"
    }
   ],
   "source": [
    "# Accuracy score:\n",
    "accuracy_score(y1_test,y1_predictLG)"
   ]
  },
  {
   "cell_type": "code",
   "execution_count": 330,
   "id": "729d916c",
   "metadata": {},
   "outputs": [
    {
     "name": "stdout",
     "output_type": "stream",
     "text": [
      "Score for Logistic Regression model:  93.8059622880017\n"
     ]
    }
   ],
   "source": [
    "# Check the model score:\n",
    "LGscore = logreg_model.score(X1_test, y1_test)\n",
    "print(\"Score for Logistic Regression model: \", LGscore *100)"
   ]
  },
  {
   "cell_type": "code",
   "execution_count": 327,
   "id": "521f87af",
   "metadata": {},
   "outputs": [
    {
     "name": "stdout",
     "output_type": "stream",
     "text": [
      "Prediction probabilities from LogisticRegression:\n",
      "[[1.42108547e-14 1.00000000e+00]\n",
      " [1.05537306e-02 9.89446269e-01]\n",
      " [8.40528671e-02 9.15947133e-01]\n",
      " [4.63637781e-05 9.99953636e-01]\n",
      " [2.13832092e-02 9.78616791e-01]\n",
      " [6.81484160e-03 9.93185158e-01]\n",
      " [1.25721422e-05 9.99987428e-01]\n",
      " [4.60719853e-02 9.53928015e-01]\n",
      " [5.43275209e-02 9.45672479e-01]]\n"
     ]
    }
   ],
   "source": [
    "# Show prediction probabilities:\n",
    "LGprob = logreg_model.predict_proba(X1_test)\n",
    "print('Prediction probabilities from LogisticRegression:')\n",
    "print(LGprob[1:10])"
   ]
  },
  {
   "cell_type": "code",
   "execution_count": 328,
   "id": "b0efbd24",
   "metadata": {},
   "outputs": [
    {
     "name": "stdout",
     "output_type": "stream",
     "text": [
      "LogisticRegression model confusion matrix result:\n"
     ]
    },
    {
     "data": {
      "text/plain": [
       "array([[ 462,  433],\n",
       "       [ 155, 8443]], dtype=int64)"
      ]
     },
     "execution_count": 328,
     "metadata": {},
     "output_type": "execute_result"
    }
   ],
   "source": [
    "# Check the result in a confusion matrix:\n",
    "# Load dependency:\n",
    "from sklearn.metrics import confusion_matrix\n",
    "\n",
    "# Assign confusion matrix function to variable(container):\n",
    "LGcm_result = confusion_matrix(y1_test, y1_predictLG)\n",
    "\n",
    "print('LogisticRegression model confusion matrix result:')\n",
    "LGcm_result"
   ]
  },
  {
   "cell_type": "markdown",
   "id": "14fe231b",
   "metadata": {},
   "source": [
    "***\n",
    "## EVALUATION AND CONCLUSION:"
   ]
  },
  {
   "cell_type": "markdown",
   "id": "a39d95f5",
   "metadata": {},
   "source": [
    "R-SQUARE SCORES IN A TABULATED FORMAT:"
   ]
  },
  {
   "cell_type": "code",
   "execution_count": 338,
   "id": "25db0d51",
   "metadata": {
    "scrolled": false
   },
   "outputs": [
    {
     "data": {
      "text/html": [
       "<div>\n",
       "<style scoped>\n",
       "    .dataframe tbody tr th:only-of-type {\n",
       "        vertical-align: middle;\n",
       "    }\n",
       "\n",
       "    .dataframe tbody tr th {\n",
       "        vertical-align: top;\n",
       "    }\n",
       "\n",
       "    .dataframe thead th {\n",
       "        text-align: right;\n",
       "    }\n",
       "</style>\n",
       "<table border=\"1\" class=\"dataframe\">\n",
       "  <thead>\n",
       "    <tr style=\"text-align: right;\">\n",
       "      <th></th>\n",
       "      <th>Model</th>\n",
       "      <th>Score</th>\n",
       "    </tr>\n",
       "  </thead>\n",
       "  <tbody>\n",
       "    <tr>\n",
       "      <th>4</th>\n",
       "      <td>Logistic Regression</td>\n",
       "      <td>0.938060</td>\n",
       "    </tr>\n",
       "    <tr>\n",
       "      <th>3</th>\n",
       "      <td>Extra Tree Regression</td>\n",
       "      <td>0.926053</td>\n",
       "    </tr>\n",
       "    <tr>\n",
       "      <th>2</th>\n",
       "      <td>Random Forest</td>\n",
       "      <td>0.919836</td>\n",
       "    </tr>\n",
       "    <tr>\n",
       "      <th>1</th>\n",
       "      <td>Decision Tree</td>\n",
       "      <td>0.881930</td>\n",
       "    </tr>\n",
       "    <tr>\n",
       "      <th>0</th>\n",
       "      <td>Linear Regression</td>\n",
       "      <td>0.095302</td>\n",
       "    </tr>\n",
       "  </tbody>\n",
       "</table>\n",
       "</div>"
      ],
      "text/plain": [
       "                   Model     Score\n",
       "4    Logistic Regression  0.938060\n",
       "3  Extra Tree Regression  0.926053\n",
       "2          Random Forest  0.919836\n",
       "1          Decision Tree  0.881930\n",
       "0      Linear Regression  0.095302"
      ]
     },
     "execution_count": 338,
     "metadata": {},
     "output_type": "execute_result"
    }
   ],
   "source": [
    "models = pd.DataFrame({\n",
    "    'Model' : ['Linear Regression', 'Decision Tree', 'Random Forest','Extra Tree Regression', 'Logistic Regression'],\n",
    "    'Score' : [linreg_model.score(X_test, y_test), dtree_model.score(X_test, y_test), RandomF_model.score(X_test, y_test),\n",
    "               xtreg_model.score(X_test, y_test), logreg_model.score(X1_test, y1_test)]})\n",
    "\n",
    "models.sort_values(by = 'Score', ascending = False)"
   ]
  },
  {
   "cell_type": "markdown",
   "id": "4c37109a",
   "metadata": {},
   "source": [
    "We have shown that the Extra Tree Regression and Logistic Regression models, are the top 2 that perform the best with our dataset, implying that, potentially, we can use the two models to predict the ratings of our future datasets.<br>\n",
    "\n",
    "However, I would recommend to use Extra Tree Regression model to predict the ratings of our future datasets.\n",
    "And use Logistic Regression model to predict two kinds of classification of ratings, whether 1: Good rating and 2: Bad rating, of our future datasets.\n",
    "\n"
   ]
  },
  {
   "cell_type": "markdown",
   "id": "8947cb6f",
   "metadata": {},
   "source": [
    "This analysis shows that after training and testing the model on the data, we can predict the ratings for new restaurants using the independent variables.<br>\n",
    "\n",
    "We will develop a predictor model to forecast a new restaurant's popularity and success, as well as assist an existing restaurant in improving its ratings. A new restaurant's success can also be predicted using historical data about the location and services provided.<br>\n",
    "\n",
    "The goal of this research is to provide meaningful information about the factors that could help improve the success of an existing restaurant, assess the success of a new restaurant, and predict ratings for completely new restaurants."
   ]
  },
  {
   "cell_type": "code",
   "execution_count": null,
   "id": "863b8994",
   "metadata": {},
   "outputs": [],
   "source": []
  }
 ],
 "metadata": {
  "kernelspec": {
   "display_name": "Python 3 (ipykernel)",
   "language": "python",
   "name": "python3"
  },
  "language_info": {
   "codemirror_mode": {
    "name": "ipython",
    "version": 3
   },
   "file_extension": ".py",
   "mimetype": "text/x-python",
   "name": "python",
   "nbconvert_exporter": "python",
   "pygments_lexer": "ipython3",
   "version": "3.9.12"
  }
 },
 "nbformat": 4,
 "nbformat_minor": 5
}
