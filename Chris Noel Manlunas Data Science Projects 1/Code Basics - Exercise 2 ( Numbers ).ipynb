{
 "cells": [
  {
   "cell_type": "markdown",
   "id": "016ea4c0",
   "metadata": {},
   "source": [
    "# Code Basics Project 2"
   ]
  },
  {
   "cell_type": "raw",
   "id": "cd5d7c4b",
   "metadata": {},
   "source": [
    "Tasks:\n",
    "\n",
    "Using the format() function, pass 145 and ‘o’ in the function and see what it returns.\n",
    "Try to find out which representation it is.\n",
    "\n",
    "There is a circular pond in a village. This pond has a radius of 84 meters. Can you find the area of the pond?\n",
    "(Bonus: If there is exactly 1.4 liter of water in a square meter, what is the total amount of water in the pond?)\n",
    "\n",
    "                     Hint:\n",
    "                     Circle Area = πr2\n",
    "\n",
    "If you cross a 490-meter-long street in 7 minutes, then what is your speed in meters per second? Print your answer without any decimal point in it.\n",
    "\n",
    "                     Hint:\n",
    "                     Speed = Distance / Time"
   ]
  },
  {
   "cell_type": "code",
   "execution_count": 1,
   "id": "d524023d",
   "metadata": {},
   "outputs": [
    {
     "data": {
      "text/plain": [
       "'221'"
      ]
     },
     "execution_count": 1,
     "metadata": {},
     "output_type": "execute_result"
    }
   ],
   "source": [
    "format(145,'o')"
   ]
  },
  {
   "cell_type": "code",
   "execution_count": 4,
   "id": "53f4428a",
   "metadata": {},
   "outputs": [
    {
     "name": "stdout",
     "output_type": "stream",
     "text": [
      "Area of the circle(pond) = 22155.84\n"
     ]
    }
   ],
   "source": [
    "π = 3.14\n",
    "#PI = 3.14\n",
    "given_radius = 84\n",
    "\n",
    "#Where:\n",
    "pi = π\n",
    "r = given_radius\n",
    "\n",
    "#Finding the circle area (area of the pond when shape of pond is circle).\n",
    "circle_area = pi * (r ** 2)\n",
    "print(\"Area of the circle(pond) =\", circle_area )"
   ]
  },
  {
   "cell_type": "code",
   "execution_count": 9,
   "id": "ad6dec25",
   "metadata": {},
   "outputs": [
    {
     "name": "stdout",
     "output_type": "stream",
     "text": [
      "liter of water per sq meter: 31018.176\n"
     ]
    }
   ],
   "source": [
    "#(Bonus: If there is exactly 1.4 liter of water in a square meter, what is the total amount of water in the pond?)\n",
    "\n",
    "#amount in liter per square meter:\n",
    "water = 1.4\n",
    "\n",
    "#area of the pond\n",
    "circle_area = 22155.84\n",
    "\n",
    "amount_water = circle_area * water\n",
    "print('liter of water per sq meter:', amount_water)\n"
   ]
  },
  {
   "cell_type": "code",
   "execution_count": null,
   "id": "5836ff64",
   "metadata": {},
   "outputs": [],
   "source": []
  }
 ],
 "metadata": {
  "kernelspec": {
   "display_name": "Python 3 (ipykernel)",
   "language": "python",
   "name": "python3"
  },
  "language_info": {
   "codemirror_mode": {
    "name": "ipython",
    "version": 3
   },
   "file_extension": ".py",
   "mimetype": "text/x-python",
   "name": "python",
   "nbconvert_exporter": "python",
   "pygments_lexer": "ipython3",
   "version": "3.9.12"
  }
 },
 "nbformat": 4,
 "nbformat_minor": 5
}
