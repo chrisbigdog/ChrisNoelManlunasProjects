{
 "cells": [
  {
   "cell_type": "markdown",
   "id": "397d2356",
   "metadata": {},
   "source": [
    "# Code Basics Project 1"
   ]
  },
  {
   "cell_type": "raw",
   "id": "37d10b3d",
   "metadata": {},
   "source": [
    "Tasks:\n",
    "\n",
    "Create a variable named pi and store the value 22/7 in it. Now check the data type of this variable.\n",
    "\n",
    "Create a variable called for and assign it a value 4.\n",
    "See what happens and find out the reason behind the behavior that you see. Create a solution for it.\n",
    "\n",
    "Store the principal amount, rate of interest, and time in different variables and then calculate the Simple Interest for 3 years \n",
    "\n",
    "Formula: \n",
    "Simple Interest =  P x R x T / 100"
   ]
  },
  {
   "cell_type": "code",
   "execution_count": 4,
   "id": "618bf4dc",
   "metadata": {
    "scrolled": true
   },
   "outputs": [],
   "source": [
    "pi = 22/7"
   ]
  },
  {
   "cell_type": "code",
   "execution_count": 5,
   "id": "cdfa30d2",
   "metadata": {
    "scrolled": true
   },
   "outputs": [
    {
     "name": "stdout",
     "output_type": "stream",
     "text": [
      "3.142857142857143\n"
     ]
    }
   ],
   "source": [
    "print(pi)"
   ]
  },
  {
   "cell_type": "code",
   "execution_count": 7,
   "id": "8e99e3dc",
   "metadata": {},
   "outputs": [
    {
     "data": {
      "text/plain": [
       "float"
      ]
     },
     "execution_count": 7,
     "metadata": {},
     "output_type": "execute_result"
    }
   ],
   "source": [
    "type(pi)"
   ]
  },
  {
   "cell_type": "code",
   "execution_count": 8,
   "id": "1c973f96",
   "metadata": {
    "scrolled": true
   },
   "outputs": [
    {
     "ename": "SyntaxError",
     "evalue": "invalid syntax (2046953698.py, line 1)",
     "output_type": "error",
     "traceback": [
      "\u001b[1;36m  Input \u001b[1;32mIn [8]\u001b[1;36m\u001b[0m\n\u001b[1;33m    for = 4\u001b[0m\n\u001b[1;37m        ^\u001b[0m\n\u001b[1;31mSyntaxError\u001b[0m\u001b[1;31m:\u001b[0m invalid syntax\n"
     ]
    }
   ],
   "source": [
    "for = 4"
   ]
  },
  {
   "cell_type": "code",
   "execution_count": 10,
   "id": "f26babf1",
   "metadata": {},
   "outputs": [
    {
     "data": {
      "text/plain": [
       "4"
      ]
     },
     "execution_count": 10,
     "metadata": {},
     "output_type": "execute_result"
    }
   ],
   "source": [
    "#Syntax error: because \"for\" is a reserved keyword in python. We cannot use reserved keywords for making variable names.\n",
    "#Solution:\n",
    "_for_ = 4\n",
    "_for_"
   ]
  },
  {
   "cell_type": "code",
   "execution_count": 15,
   "id": "fa97c7d8",
   "metadata": {},
   "outputs": [
    {
     "data": {
      "text/plain": [
       "0.375"
      ]
     },
     "execution_count": 15,
     "metadata": {},
     "output_type": "execute_result"
    }
   ],
   "source": [
    "principal_amount = 5\n",
    "rate_of_interest = 2.5\n",
    "time = 3\n",
    "\n",
    "simple_interest = (principal_amount * rate_of_interest * time)/100\n",
    "simple_interest"
   ]
  },
  {
   "cell_type": "code",
   "execution_count": 16,
   "id": "77b96661",
   "metadata": {},
   "outputs": [
    {
     "data": {
      "text/plain": [
       "0.375"
      ]
     },
     "execution_count": 16,
     "metadata": {},
     "output_type": "execute_result"
    }
   ],
   "source": [
    "#Other Solution:\n",
    "principal_amount = 5\n",
    "rate_of_interest = 2.5\n",
    "time = 3\n",
    "\n",
    "#Formula:\n",
    "#Simple interest  = P x R x T / 100\n",
    "#Where:\n",
    "P = principal_amount\n",
    "R = rate_of_interest\n",
    "T = time\n",
    "\n",
    "\n",
    "simple_interest = P * R * T / 100\n",
    "simple_interest"
   ]
  },
  {
   "cell_type": "code",
   "execution_count": 17,
   "id": "48ce5e9a",
   "metadata": {
    "scrolled": true
   },
   "outputs": [
    {
     "name": "stdout",
     "output_type": "stream",
     "text": [
      "<class 'float'>\n"
     ]
    }
   ],
   "source": [
    "print(type(simple_interest))"
   ]
  },
  {
   "cell_type": "code",
   "execution_count": 21,
   "id": "814bbd47",
   "metadata": {},
   "outputs": [
    {
     "name": "stdout",
     "output_type": "stream",
     "text": [
      "Total amount: 5.375\n"
     ]
    }
   ],
   "source": [
    "# Calculating the total amount after including interest:\n",
    "total_amount = principal_amount + simple_interest\n",
    "print(\"Total amount:\",total_amount)"
   ]
  }
 ],
 "metadata": {
  "kernelspec": {
   "display_name": "Python 3 (ipykernel)",
   "language": "python",
   "name": "python3"
  },
  "language_info": {
   "codemirror_mode": {
    "name": "ipython",
    "version": 3
   },
   "file_extension": ".py",
   "mimetype": "text/x-python",
   "name": "python",
   "nbconvert_exporter": "python",
   "pygments_lexer": "ipython3",
   "version": "3.9.12"
  }
 },
 "nbformat": 4,
 "nbformat_minor": 5
}
